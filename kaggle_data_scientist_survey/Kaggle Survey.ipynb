{
 "cells": [
  {
   "cell_type": "code",
   "execution_count": 1,
   "id": "831cf2cb",
   "metadata": {},
   "outputs": [],
   "source": [
    "import pandas as pd \n",
    "import numpy as np\n",
    "import matplotlib.pyplot as plt\n",
    "import seaborn as sns\n",
    "import chart_studio.plotly as py\n",
    "import plotly.express as px\n",
    "import plotly.graph_objs as go \n",
    "from plotly.offline import download_plotlyjs, init_notebook_mode, plot, iplot\n",
    "%matplotlib inline\n"
   ]
  },
  {
   "cell_type": "code",
   "execution_count": 2,
   "id": "3a0805dc",
   "metadata": {},
   "outputs": [],
   "source": [
    "df = pd.read_csv(\"kaggle_survey_2021_responses.csv\", low_memory = False)"
   ]
  },
  {
   "cell_type": "code",
   "execution_count": 3,
   "id": "bf3ea069",
   "metadata": {},
   "outputs": [
    {
     "data": {
      "text/html": [
       "        <script type=\"text/javascript\">\n",
       "        window.PlotlyConfig = {MathJaxConfig: 'local'};\n",
       "        if (window.MathJax) {MathJax.Hub.Config({SVG: {font: \"STIX-Web\"}});}\n",
       "        if (typeof require !== 'undefined') {\n",
       "        require.undef(\"plotly\");\n",
       "        requirejs.config({\n",
       "            paths: {\n",
       "                'plotly': ['https://cdn.plot.ly/plotly-2.8.3.min']\n",
       "            }\n",
       "        });\n",
       "        require(['plotly'], function(Plotly) {\n",
       "            window._Plotly = Plotly;\n",
       "        });\n",
       "        }\n",
       "        </script>\n",
       "        "
      ]
     },
     "metadata": {},
     "output_type": "display_data"
    }
   ],
   "source": [
    "init_notebook_mode(connected=True) "
   ]
  },
  {
   "cell_type": "code",
   "execution_count": 4,
   "id": "7325e7ec",
   "metadata": {},
   "outputs": [
    {
     "data": {
      "text/html": [
       "<div>\n",
       "<style scoped>\n",
       "    .dataframe tbody tr th:only-of-type {\n",
       "        vertical-align: middle;\n",
       "    }\n",
       "\n",
       "    .dataframe tbody tr th {\n",
       "        vertical-align: top;\n",
       "    }\n",
       "\n",
       "    .dataframe thead th {\n",
       "        text-align: right;\n",
       "    }\n",
       "</style>\n",
       "<table border=\"1\" class=\"dataframe\">\n",
       "  <thead>\n",
       "    <tr style=\"text-align: right;\">\n",
       "      <th></th>\n",
       "      <th>Time from Start to Finish (seconds)</th>\n",
       "      <th>Q1</th>\n",
       "      <th>Q2</th>\n",
       "      <th>Q3</th>\n",
       "      <th>Q4</th>\n",
       "      <th>Q5</th>\n",
       "      <th>Q6</th>\n",
       "      <th>Q7_Part_1</th>\n",
       "      <th>Q7_Part_2</th>\n",
       "      <th>Q7_Part_3</th>\n",
       "      <th>...</th>\n",
       "      <th>Q38_B_Part_3</th>\n",
       "      <th>Q38_B_Part_4</th>\n",
       "      <th>Q38_B_Part_5</th>\n",
       "      <th>Q38_B_Part_6</th>\n",
       "      <th>Q38_B_Part_7</th>\n",
       "      <th>Q38_B_Part_8</th>\n",
       "      <th>Q38_B_Part_9</th>\n",
       "      <th>Q38_B_Part_10</th>\n",
       "      <th>Q38_B_Part_11</th>\n",
       "      <th>Q38_B_OTHER</th>\n",
       "    </tr>\n",
       "  </thead>\n",
       "  <tbody>\n",
       "    <tr>\n",
       "      <th>0</th>\n",
       "      <td>Duration (in seconds)</td>\n",
       "      <td>What is your age (# years)?</td>\n",
       "      <td>What is your gender? - Selected Choice</td>\n",
       "      <td>In which country do you currently reside?</td>\n",
       "      <td>What is the highest level of formal education ...</td>\n",
       "      <td>Select the title most similar to your current ...</td>\n",
       "      <td>For how many years have you been writing code ...</td>\n",
       "      <td>What programming languages do you use on a reg...</td>\n",
       "      <td>What programming languages do you use on a reg...</td>\n",
       "      <td>What programming languages do you use on a reg...</td>\n",
       "      <td>...</td>\n",
       "      <td>In the next 2 years, do you hope to become mor...</td>\n",
       "      <td>In the next 2 years, do you hope to become mor...</td>\n",
       "      <td>In the next 2 years, do you hope to become mor...</td>\n",
       "      <td>In the next 2 years, do you hope to become mor...</td>\n",
       "      <td>In the next 2 years, do you hope to become mor...</td>\n",
       "      <td>In the next 2 years, do you hope to become mor...</td>\n",
       "      <td>In the next 2 years, do you hope to become mor...</td>\n",
       "      <td>In the next 2 years, do you hope to become mor...</td>\n",
       "      <td>In the next 2 years, do you hope to become mor...</td>\n",
       "      <td>In the next 2 years, do you hope to become mor...</td>\n",
       "    </tr>\n",
       "    <tr>\n",
       "      <th>1</th>\n",
       "      <td>910</td>\n",
       "      <td>50-54</td>\n",
       "      <td>Man</td>\n",
       "      <td>India</td>\n",
       "      <td>Bachelor’s degree</td>\n",
       "      <td>Other</td>\n",
       "      <td>5-10 years</td>\n",
       "      <td>Python</td>\n",
       "      <td>R</td>\n",
       "      <td>NaN</td>\n",
       "      <td>...</td>\n",
       "      <td>NaN</td>\n",
       "      <td>NaN</td>\n",
       "      <td>NaN</td>\n",
       "      <td>NaN</td>\n",
       "      <td>NaN</td>\n",
       "      <td>NaN</td>\n",
       "      <td>NaN</td>\n",
       "      <td>NaN</td>\n",
       "      <td>NaN</td>\n",
       "      <td>NaN</td>\n",
       "    </tr>\n",
       "    <tr>\n",
       "      <th>2</th>\n",
       "      <td>784</td>\n",
       "      <td>50-54</td>\n",
       "      <td>Man</td>\n",
       "      <td>Indonesia</td>\n",
       "      <td>Master’s degree</td>\n",
       "      <td>Program/Project Manager</td>\n",
       "      <td>20+ years</td>\n",
       "      <td>NaN</td>\n",
       "      <td>NaN</td>\n",
       "      <td>SQL</td>\n",
       "      <td>...</td>\n",
       "      <td>NaN</td>\n",
       "      <td>NaN</td>\n",
       "      <td>NaN</td>\n",
       "      <td>NaN</td>\n",
       "      <td>NaN</td>\n",
       "      <td>NaN</td>\n",
       "      <td>NaN</td>\n",
       "      <td>NaN</td>\n",
       "      <td>None</td>\n",
       "      <td>NaN</td>\n",
       "    </tr>\n",
       "  </tbody>\n",
       "</table>\n",
       "<p>3 rows × 369 columns</p>\n",
       "</div>"
      ],
      "text/plain": [
       "  Time from Start to Finish (seconds)                           Q1  \\\n",
       "0               Duration (in seconds)  What is your age (# years)?   \n",
       "1                                 910                        50-54   \n",
       "2                                 784                        50-54   \n",
       "\n",
       "                                       Q2  \\\n",
       "0  What is your gender? - Selected Choice   \n",
       "1                                     Man   \n",
       "2                                     Man   \n",
       "\n",
       "                                          Q3  \\\n",
       "0  In which country do you currently reside?   \n",
       "1                                      India   \n",
       "2                                  Indonesia   \n",
       "\n",
       "                                                  Q4  \\\n",
       "0  What is the highest level of formal education ...   \n",
       "1                                  Bachelor’s degree   \n",
       "2                                    Master’s degree   \n",
       "\n",
       "                                                  Q5  \\\n",
       "0  Select the title most similar to your current ...   \n",
       "1                                              Other   \n",
       "2                            Program/Project Manager   \n",
       "\n",
       "                                                  Q6  \\\n",
       "0  For how many years have you been writing code ...   \n",
       "1                                         5-10 years   \n",
       "2                                          20+ years   \n",
       "\n",
       "                                           Q7_Part_1  \\\n",
       "0  What programming languages do you use on a reg...   \n",
       "1                                             Python   \n",
       "2                                                NaN   \n",
       "\n",
       "                                           Q7_Part_2  \\\n",
       "0  What programming languages do you use on a reg...   \n",
       "1                                                  R   \n",
       "2                                                NaN   \n",
       "\n",
       "                                           Q7_Part_3  ...  \\\n",
       "0  What programming languages do you use on a reg...  ...   \n",
       "1                                                NaN  ...   \n",
       "2                                                SQL  ...   \n",
       "\n",
       "                                        Q38_B_Part_3  \\\n",
       "0  In the next 2 years, do you hope to become mor...   \n",
       "1                                                NaN   \n",
       "2                                                NaN   \n",
       "\n",
       "                                        Q38_B_Part_4  \\\n",
       "0  In the next 2 years, do you hope to become mor...   \n",
       "1                                                NaN   \n",
       "2                                                NaN   \n",
       "\n",
       "                                        Q38_B_Part_5  \\\n",
       "0  In the next 2 years, do you hope to become mor...   \n",
       "1                                                NaN   \n",
       "2                                                NaN   \n",
       "\n",
       "                                        Q38_B_Part_6  \\\n",
       "0  In the next 2 years, do you hope to become mor...   \n",
       "1                                                NaN   \n",
       "2                                                NaN   \n",
       "\n",
       "                                        Q38_B_Part_7  \\\n",
       "0  In the next 2 years, do you hope to become mor...   \n",
       "1                                                NaN   \n",
       "2                                                NaN   \n",
       "\n",
       "                                        Q38_B_Part_8  \\\n",
       "0  In the next 2 years, do you hope to become mor...   \n",
       "1                                                NaN   \n",
       "2                                                NaN   \n",
       "\n",
       "                                        Q38_B_Part_9  \\\n",
       "0  In the next 2 years, do you hope to become mor...   \n",
       "1                                                NaN   \n",
       "2                                                NaN   \n",
       "\n",
       "                                       Q38_B_Part_10  \\\n",
       "0  In the next 2 years, do you hope to become mor...   \n",
       "1                                                NaN   \n",
       "2                                                NaN   \n",
       "\n",
       "                                       Q38_B_Part_11  \\\n",
       "0  In the next 2 years, do you hope to become mor...   \n",
       "1                                                NaN   \n",
       "2                                               None   \n",
       "\n",
       "                                         Q38_B_OTHER  \n",
       "0  In the next 2 years, do you hope to become mor...  \n",
       "1                                                NaN  \n",
       "2                                                NaN  \n",
       "\n",
       "[3 rows x 369 columns]"
      ]
     },
     "execution_count": 4,
     "metadata": {},
     "output_type": "execute_result"
    }
   ],
   "source": [
    "df.head(3)"
   ]
  },
  {
   "cell_type": "code",
   "execution_count": 5,
   "id": "0c24d338",
   "metadata": {},
   "outputs": [
    {
     "name": "stdout",
     "output_type": "stream",
     "text": [
      "<class 'pandas.core.frame.DataFrame'>\n",
      "RangeIndex: 25974 entries, 0 to 25973\n",
      "Columns: 369 entries, Time from Start to Finish (seconds) to Q38_B_OTHER\n",
      "dtypes: object(369)\n",
      "memory usage: 73.1+ MB\n"
     ]
    }
   ],
   "source": [
    "df.info()"
   ]
  },
  {
   "cell_type": "code",
   "execution_count": 6,
   "id": "e4cac5ea",
   "metadata": {},
   "outputs": [],
   "source": [
    "df.columns = df.iloc[0] # Replacing the column names with the actual questions"
   ]
  },
  {
   "cell_type": "code",
   "execution_count": 7,
   "id": "3bec5907",
   "metadata": {},
   "outputs": [
    {
     "data": {
      "text/html": [
       "<div>\n",
       "<style scoped>\n",
       "    .dataframe tbody tr th:only-of-type {\n",
       "        vertical-align: middle;\n",
       "    }\n",
       "\n",
       "    .dataframe tbody tr th {\n",
       "        vertical-align: top;\n",
       "    }\n",
       "\n",
       "    .dataframe thead th {\n",
       "        text-align: right;\n",
       "    }\n",
       "</style>\n",
       "<table border=\"1\" class=\"dataframe\">\n",
       "  <thead>\n",
       "    <tr style=\"text-align: right;\">\n",
       "      <th></th>\n",
       "      <th>Duration (in seconds)</th>\n",
       "      <th>What is your age (# years)?</th>\n",
       "      <th>What is your gender? - Selected Choice</th>\n",
       "      <th>In which country do you currently reside?</th>\n",
       "      <th>What is the highest level of formal education that you have attained or plan to attain within the next 2 years?</th>\n",
       "      <th>Select the title most similar to your current role (or most recent title if retired): - Selected Choice</th>\n",
       "      <th>For how many years have you been writing code and/or programming?</th>\n",
       "      <th>What programming languages do you use on a regular basis? (Select all that apply) - Selected Choice - Python</th>\n",
       "      <th>What programming languages do you use on a regular basis? (Select all that apply) - Selected Choice - R</th>\n",
       "      <th>What programming languages do you use on a regular basis? (Select all that apply) - Selected Choice - SQL</th>\n",
       "      <th>...</th>\n",
       "      <th>In the next 2 years, do you hope to become more familiar with any of these tools for managing ML experiments? (Select all that apply) - Selected Choice -  Comet.ml</th>\n",
       "      <th>In the next 2 years, do you hope to become more familiar with any of these tools for managing ML experiments? (Select all that apply) - Selected Choice -  Sacred + Omniboard</th>\n",
       "      <th>In the next 2 years, do you hope to become more familiar with any of these tools for managing ML experiments? (Select all that apply) - Selected Choice -  TensorBoard</th>\n",
       "      <th>In the next 2 years, do you hope to become more familiar with any of these tools for managing ML experiments? (Select all that apply) - Selected Choice -  Guild.ai</th>\n",
       "      <th>In the next 2 years, do you hope to become more familiar with any of these tools for managing ML experiments? (Select all that apply) - Selected Choice -  Polyaxon</th>\n",
       "      <th>In the next 2 years, do you hope to become more familiar with any of these tools for managing ML experiments? (Select all that apply) - Selected Choice -  ClearML</th>\n",
       "      <th>In the next 2 years, do you hope to become more familiar with any of these tools for managing ML experiments? (Select all that apply) - Selected Choice -  Domino Model Monitor</th>\n",
       "      <th>In the next 2 years, do you hope to become more familiar with any of these tools for managing ML experiments? (Select all that apply) - Selected Choice -  MLflow</th>\n",
       "      <th>In the next 2 years, do you hope to become more familiar with any of these tools for managing ML experiments? (Select all that apply) - Selected Choice - None</th>\n",
       "      <th>In the next 2 years, do you hope to become more familiar with any of these tools for managing ML experiments? (Select all that apply) - Selected Choice - Other</th>\n",
       "    </tr>\n",
       "  </thead>\n",
       "  <tbody>\n",
       "    <tr>\n",
       "      <th>0</th>\n",
       "      <td>Duration (in seconds)</td>\n",
       "      <td>What is your age (# years)?</td>\n",
       "      <td>What is your gender? - Selected Choice</td>\n",
       "      <td>In which country do you currently reside?</td>\n",
       "      <td>What is the highest level of formal education ...</td>\n",
       "      <td>Select the title most similar to your current ...</td>\n",
       "      <td>For how many years have you been writing code ...</td>\n",
       "      <td>What programming languages do you use on a reg...</td>\n",
       "      <td>What programming languages do you use on a reg...</td>\n",
       "      <td>What programming languages do you use on a reg...</td>\n",
       "      <td>...</td>\n",
       "      <td>In the next 2 years, do you hope to become mor...</td>\n",
       "      <td>In the next 2 years, do you hope to become mor...</td>\n",
       "      <td>In the next 2 years, do you hope to become mor...</td>\n",
       "      <td>In the next 2 years, do you hope to become mor...</td>\n",
       "      <td>In the next 2 years, do you hope to become mor...</td>\n",
       "      <td>In the next 2 years, do you hope to become mor...</td>\n",
       "      <td>In the next 2 years, do you hope to become mor...</td>\n",
       "      <td>In the next 2 years, do you hope to become mor...</td>\n",
       "      <td>In the next 2 years, do you hope to become mor...</td>\n",
       "      <td>In the next 2 years, do you hope to become mor...</td>\n",
       "    </tr>\n",
       "    <tr>\n",
       "      <th>1</th>\n",
       "      <td>910</td>\n",
       "      <td>50-54</td>\n",
       "      <td>Man</td>\n",
       "      <td>India</td>\n",
       "      <td>Bachelor’s degree</td>\n",
       "      <td>Other</td>\n",
       "      <td>5-10 years</td>\n",
       "      <td>Python</td>\n",
       "      <td>R</td>\n",
       "      <td>NaN</td>\n",
       "      <td>...</td>\n",
       "      <td>NaN</td>\n",
       "      <td>NaN</td>\n",
       "      <td>NaN</td>\n",
       "      <td>NaN</td>\n",
       "      <td>NaN</td>\n",
       "      <td>NaN</td>\n",
       "      <td>NaN</td>\n",
       "      <td>NaN</td>\n",
       "      <td>NaN</td>\n",
       "      <td>NaN</td>\n",
       "    </tr>\n",
       "    <tr>\n",
       "      <th>2</th>\n",
       "      <td>784</td>\n",
       "      <td>50-54</td>\n",
       "      <td>Man</td>\n",
       "      <td>Indonesia</td>\n",
       "      <td>Master’s degree</td>\n",
       "      <td>Program/Project Manager</td>\n",
       "      <td>20+ years</td>\n",
       "      <td>NaN</td>\n",
       "      <td>NaN</td>\n",
       "      <td>SQL</td>\n",
       "      <td>...</td>\n",
       "      <td>NaN</td>\n",
       "      <td>NaN</td>\n",
       "      <td>NaN</td>\n",
       "      <td>NaN</td>\n",
       "      <td>NaN</td>\n",
       "      <td>NaN</td>\n",
       "      <td>NaN</td>\n",
       "      <td>NaN</td>\n",
       "      <td>None</td>\n",
       "      <td>NaN</td>\n",
       "    </tr>\n",
       "  </tbody>\n",
       "</table>\n",
       "<p>3 rows × 369 columns</p>\n",
       "</div>"
      ],
      "text/plain": [
       "0  Duration (in seconds)  What is your age (# years)?  \\\n",
       "0  Duration (in seconds)  What is your age (# years)?   \n",
       "1                    910                        50-54   \n",
       "2                    784                        50-54   \n",
       "\n",
       "0  What is your gender? - Selected Choice  \\\n",
       "0  What is your gender? - Selected Choice   \n",
       "1                                     Man   \n",
       "2                                     Man   \n",
       "\n",
       "0  In which country do you currently reside?  \\\n",
       "0  In which country do you currently reside?   \n",
       "1                                      India   \n",
       "2                                  Indonesia   \n",
       "\n",
       "0 What is the highest level of formal education that you have attained or plan to attain within the next 2 years?  \\\n",
       "0  What is the highest level of formal education ...                                                                \n",
       "1                                  Bachelor’s degree                                                                \n",
       "2                                    Master’s degree                                                                \n",
       "\n",
       "0 Select the title most similar to your current role (or most recent title if retired): - Selected Choice  \\\n",
       "0  Select the title most similar to your current ...                                                        \n",
       "1                                              Other                                                        \n",
       "2                            Program/Project Manager                                                        \n",
       "\n",
       "0 For how many years have you been writing code and/or programming?  \\\n",
       "0  For how many years have you been writing code ...                  \n",
       "1                                         5-10 years                  \n",
       "2                                          20+ years                  \n",
       "\n",
       "0 What programming languages do you use on a regular basis? (Select all that apply) - Selected Choice - Python  \\\n",
       "0  What programming languages do you use on a reg...                                                             \n",
       "1                                             Python                                                             \n",
       "2                                                NaN                                                             \n",
       "\n",
       "0 What programming languages do you use on a regular basis? (Select all that apply) - Selected Choice - R  \\\n",
       "0  What programming languages do you use on a reg...                                                        \n",
       "1                                                  R                                                        \n",
       "2                                                NaN                                                        \n",
       "\n",
       "0 What programming languages do you use on a regular basis? (Select all that apply) - Selected Choice - SQL  \\\n",
       "0  What programming languages do you use on a reg...                                                          \n",
       "1                                                NaN                                                          \n",
       "2                                                SQL                                                          \n",
       "\n",
       "0  ...  \\\n",
       "0  ...   \n",
       "1  ...   \n",
       "2  ...   \n",
       "\n",
       "0 In the next 2 years, do you hope to become more familiar with any of these tools for managing ML experiments? (Select all that apply) - Selected Choice -  Comet.ml   \\\n",
       "0  In the next 2 years, do you hope to become mor...                                                                                                                     \n",
       "1                                                NaN                                                                                                                     \n",
       "2                                                NaN                                                                                                                     \n",
       "\n",
       "0 In the next 2 years, do you hope to become more familiar with any of these tools for managing ML experiments? (Select all that apply) - Selected Choice -  Sacred + Omniboard   \\\n",
       "0  In the next 2 years, do you hope to become mor...                                                                                                                               \n",
       "1                                                NaN                                                                                                                               \n",
       "2                                                NaN                                                                                                                               \n",
       "\n",
       "0 In the next 2 years, do you hope to become more familiar with any of these tools for managing ML experiments? (Select all that apply) - Selected Choice -  TensorBoard   \\\n",
       "0  In the next 2 years, do you hope to become mor...                                                                                                                        \n",
       "1                                                NaN                                                                                                                        \n",
       "2                                                NaN                                                                                                                        \n",
       "\n",
       "0 In the next 2 years, do you hope to become more familiar with any of these tools for managing ML experiments? (Select all that apply) - Selected Choice -  Guild.ai   \\\n",
       "0  In the next 2 years, do you hope to become mor...                                                                                                                     \n",
       "1                                                NaN                                                                                                                     \n",
       "2                                                NaN                                                                                                                     \n",
       "\n",
       "0 In the next 2 years, do you hope to become more familiar with any of these tools for managing ML experiments? (Select all that apply) - Selected Choice -  Polyaxon   \\\n",
       "0  In the next 2 years, do you hope to become mor...                                                                                                                     \n",
       "1                                                NaN                                                                                                                     \n",
       "2                                                NaN                                                                                                                     \n",
       "\n",
       "0 In the next 2 years, do you hope to become more familiar with any of these tools for managing ML experiments? (Select all that apply) - Selected Choice -  ClearML   \\\n",
       "0  In the next 2 years, do you hope to become mor...                                                                                                                    \n",
       "1                                                NaN                                                                                                                    \n",
       "2                                                NaN                                                                                                                    \n",
       "\n",
       "0 In the next 2 years, do you hope to become more familiar with any of these tools for managing ML experiments? (Select all that apply) - Selected Choice -  Domino Model Monitor   \\\n",
       "0  In the next 2 years, do you hope to become mor...                                                                                                                                 \n",
       "1                                                NaN                                                                                                                                 \n",
       "2                                                NaN                                                                                                                                 \n",
       "\n",
       "0 In the next 2 years, do you hope to become more familiar with any of these tools for managing ML experiments? (Select all that apply) - Selected Choice -  MLflow   \\\n",
       "0  In the next 2 years, do you hope to become mor...                                                                                                                   \n",
       "1                                                NaN                                                                                                                   \n",
       "2                                                NaN                                                                                                                   \n",
       "\n",
       "0 In the next 2 years, do you hope to become more familiar with any of these tools for managing ML experiments? (Select all that apply) - Selected Choice - None  \\\n",
       "0  In the next 2 years, do you hope to become mor...                                                                                                               \n",
       "1                                                NaN                                                                                                               \n",
       "2                                               None                                                                                                               \n",
       "\n",
       "0 In the next 2 years, do you hope to become more familiar with any of these tools for managing ML experiments? (Select all that apply) - Selected Choice - Other  \n",
       "0  In the next 2 years, do you hope to become mor...                                                                                                               \n",
       "1                                                NaN                                                                                                               \n",
       "2                                                NaN                                                                                                               \n",
       "\n",
       "[3 rows x 369 columns]"
      ]
     },
     "execution_count": 7,
     "metadata": {},
     "output_type": "execute_result"
    }
   ],
   "source": [
    "df.head(3)"
   ]
  },
  {
   "cell_type": "code",
   "execution_count": 8,
   "id": "984d86f0",
   "metadata": {},
   "outputs": [
    {
     "data": {
      "text/html": [
       "<div>\n",
       "<style scoped>\n",
       "    .dataframe tbody tr th:only-of-type {\n",
       "        vertical-align: middle;\n",
       "    }\n",
       "\n",
       "    .dataframe tbody tr th {\n",
       "        vertical-align: top;\n",
       "    }\n",
       "\n",
       "    .dataframe thead th {\n",
       "        text-align: right;\n",
       "    }\n",
       "</style>\n",
       "<table border=\"1\" class=\"dataframe\">\n",
       "  <thead>\n",
       "    <tr style=\"text-align: right;\">\n",
       "      <th></th>\n",
       "      <th>Duration (in seconds)</th>\n",
       "      <th>What is your age (# years)?</th>\n",
       "      <th>What is your gender? - Selected Choice</th>\n",
       "      <th>In which country do you currently reside?</th>\n",
       "      <th>What is the highest level of formal education that you have attained or plan to attain within the next 2 years?</th>\n",
       "      <th>Select the title most similar to your current role (or most recent title if retired): - Selected Choice</th>\n",
       "      <th>For how many years have you been writing code and/or programming?</th>\n",
       "      <th>What programming languages do you use on a regular basis? (Select all that apply) - Selected Choice - Python</th>\n",
       "      <th>What programming languages do you use on a regular basis? (Select all that apply) - Selected Choice - R</th>\n",
       "      <th>What programming languages do you use on a regular basis? (Select all that apply) - Selected Choice - SQL</th>\n",
       "      <th>...</th>\n",
       "      <th>In the next 2 years, do you hope to become more familiar with any of these tools for managing ML experiments? (Select all that apply) - Selected Choice -  Comet.ml</th>\n",
       "      <th>In the next 2 years, do you hope to become more familiar with any of these tools for managing ML experiments? (Select all that apply) - Selected Choice -  Sacred + Omniboard</th>\n",
       "      <th>In the next 2 years, do you hope to become more familiar with any of these tools for managing ML experiments? (Select all that apply) - Selected Choice -  TensorBoard</th>\n",
       "      <th>In the next 2 years, do you hope to become more familiar with any of these tools for managing ML experiments? (Select all that apply) - Selected Choice -  Guild.ai</th>\n",
       "      <th>In the next 2 years, do you hope to become more familiar with any of these tools for managing ML experiments? (Select all that apply) - Selected Choice -  Polyaxon</th>\n",
       "      <th>In the next 2 years, do you hope to become more familiar with any of these tools for managing ML experiments? (Select all that apply) - Selected Choice -  ClearML</th>\n",
       "      <th>In the next 2 years, do you hope to become more familiar with any of these tools for managing ML experiments? (Select all that apply) - Selected Choice -  Domino Model Monitor</th>\n",
       "      <th>In the next 2 years, do you hope to become more familiar with any of these tools for managing ML experiments? (Select all that apply) - Selected Choice -  MLflow</th>\n",
       "      <th>In the next 2 years, do you hope to become more familiar with any of these tools for managing ML experiments? (Select all that apply) - Selected Choice - None</th>\n",
       "      <th>In the next 2 years, do you hope to become more familiar with any of these tools for managing ML experiments? (Select all that apply) - Selected Choice - Other</th>\n",
       "    </tr>\n",
       "  </thead>\n",
       "  <tbody>\n",
       "    <tr>\n",
       "      <th>1</th>\n",
       "      <td>910</td>\n",
       "      <td>50-54</td>\n",
       "      <td>Man</td>\n",
       "      <td>India</td>\n",
       "      <td>Bachelor’s degree</td>\n",
       "      <td>Other</td>\n",
       "      <td>5-10 years</td>\n",
       "      <td>Python</td>\n",
       "      <td>R</td>\n",
       "      <td>NaN</td>\n",
       "      <td>...</td>\n",
       "      <td>NaN</td>\n",
       "      <td>NaN</td>\n",
       "      <td>NaN</td>\n",
       "      <td>NaN</td>\n",
       "      <td>NaN</td>\n",
       "      <td>NaN</td>\n",
       "      <td>NaN</td>\n",
       "      <td>NaN</td>\n",
       "      <td>NaN</td>\n",
       "      <td>NaN</td>\n",
       "    </tr>\n",
       "    <tr>\n",
       "      <th>2</th>\n",
       "      <td>784</td>\n",
       "      <td>50-54</td>\n",
       "      <td>Man</td>\n",
       "      <td>Indonesia</td>\n",
       "      <td>Master’s degree</td>\n",
       "      <td>Program/Project Manager</td>\n",
       "      <td>20+ years</td>\n",
       "      <td>NaN</td>\n",
       "      <td>NaN</td>\n",
       "      <td>SQL</td>\n",
       "      <td>...</td>\n",
       "      <td>NaN</td>\n",
       "      <td>NaN</td>\n",
       "      <td>NaN</td>\n",
       "      <td>NaN</td>\n",
       "      <td>NaN</td>\n",
       "      <td>NaN</td>\n",
       "      <td>NaN</td>\n",
       "      <td>NaN</td>\n",
       "      <td>None</td>\n",
       "      <td>NaN</td>\n",
       "    </tr>\n",
       "    <tr>\n",
       "      <th>3</th>\n",
       "      <td>924</td>\n",
       "      <td>22-24</td>\n",
       "      <td>Man</td>\n",
       "      <td>Pakistan</td>\n",
       "      <td>Master’s degree</td>\n",
       "      <td>Software Engineer</td>\n",
       "      <td>1-3 years</td>\n",
       "      <td>Python</td>\n",
       "      <td>NaN</td>\n",
       "      <td>NaN</td>\n",
       "      <td>...</td>\n",
       "      <td>NaN</td>\n",
       "      <td>NaN</td>\n",
       "      <td>TensorBoard</td>\n",
       "      <td>NaN</td>\n",
       "      <td>NaN</td>\n",
       "      <td>NaN</td>\n",
       "      <td>NaN</td>\n",
       "      <td>NaN</td>\n",
       "      <td>NaN</td>\n",
       "      <td>NaN</td>\n",
       "    </tr>\n",
       "  </tbody>\n",
       "</table>\n",
       "<p>3 rows × 369 columns</p>\n",
       "</div>"
      ],
      "text/plain": [
       "0 Duration (in seconds) What is your age (# years)?  \\\n",
       "1                   910                       50-54   \n",
       "2                   784                       50-54   \n",
       "3                   924                       22-24   \n",
       "\n",
       "0 What is your gender? - Selected Choice  \\\n",
       "1                                    Man   \n",
       "2                                    Man   \n",
       "3                                    Man   \n",
       "\n",
       "0 In which country do you currently reside?  \\\n",
       "1                                     India   \n",
       "2                                 Indonesia   \n",
       "3                                  Pakistan   \n",
       "\n",
       "0 What is the highest level of formal education that you have attained or plan to attain within the next 2 years?  \\\n",
       "1                                  Bachelor’s degree                                                                \n",
       "2                                    Master’s degree                                                                \n",
       "3                                    Master’s degree                                                                \n",
       "\n",
       "0 Select the title most similar to your current role (or most recent title if retired): - Selected Choice  \\\n",
       "1                                              Other                                                        \n",
       "2                            Program/Project Manager                                                        \n",
       "3                                  Software Engineer                                                        \n",
       "\n",
       "0 For how many years have you been writing code and/or programming?  \\\n",
       "1                                         5-10 years                  \n",
       "2                                          20+ years                  \n",
       "3                                          1-3 years                  \n",
       "\n",
       "0 What programming languages do you use on a regular basis? (Select all that apply) - Selected Choice - Python  \\\n",
       "1                                             Python                                                             \n",
       "2                                                NaN                                                             \n",
       "3                                             Python                                                             \n",
       "\n",
       "0 What programming languages do you use on a regular basis? (Select all that apply) - Selected Choice - R  \\\n",
       "1                                                  R                                                        \n",
       "2                                                NaN                                                        \n",
       "3                                                NaN                                                        \n",
       "\n",
       "0 What programming languages do you use on a regular basis? (Select all that apply) - Selected Choice - SQL  \\\n",
       "1                                                NaN                                                          \n",
       "2                                                SQL                                                          \n",
       "3                                                NaN                                                          \n",
       "\n",
       "0  ...  \\\n",
       "1  ...   \n",
       "2  ...   \n",
       "3  ...   \n",
       "\n",
       "0 In the next 2 years, do you hope to become more familiar with any of these tools for managing ML experiments? (Select all that apply) - Selected Choice -  Comet.ml   \\\n",
       "1                                                NaN                                                                                                                     \n",
       "2                                                NaN                                                                                                                     \n",
       "3                                                NaN                                                                                                                     \n",
       "\n",
       "0 In the next 2 years, do you hope to become more familiar with any of these tools for managing ML experiments? (Select all that apply) - Selected Choice -  Sacred + Omniboard   \\\n",
       "1                                                NaN                                                                                                                               \n",
       "2                                                NaN                                                                                                                               \n",
       "3                                                NaN                                                                                                                               \n",
       "\n",
       "0 In the next 2 years, do you hope to become more familiar with any of these tools for managing ML experiments? (Select all that apply) - Selected Choice -  TensorBoard   \\\n",
       "1                                                NaN                                                                                                                        \n",
       "2                                                NaN                                                                                                                        \n",
       "3                                       TensorBoard                                                                                                                         \n",
       "\n",
       "0 In the next 2 years, do you hope to become more familiar with any of these tools for managing ML experiments? (Select all that apply) - Selected Choice -  Guild.ai   \\\n",
       "1                                                NaN                                                                                                                     \n",
       "2                                                NaN                                                                                                                     \n",
       "3                                                NaN                                                                                                                     \n",
       "\n",
       "0 In the next 2 years, do you hope to become more familiar with any of these tools for managing ML experiments? (Select all that apply) - Selected Choice -  Polyaxon   \\\n",
       "1                                                NaN                                                                                                                     \n",
       "2                                                NaN                                                                                                                     \n",
       "3                                                NaN                                                                                                                     \n",
       "\n",
       "0 In the next 2 years, do you hope to become more familiar with any of these tools for managing ML experiments? (Select all that apply) - Selected Choice -  ClearML   \\\n",
       "1                                                NaN                                                                                                                    \n",
       "2                                                NaN                                                                                                                    \n",
       "3                                                NaN                                                                                                                    \n",
       "\n",
       "0 In the next 2 years, do you hope to become more familiar with any of these tools for managing ML experiments? (Select all that apply) - Selected Choice -  Domino Model Monitor   \\\n",
       "1                                                NaN                                                                                                                                 \n",
       "2                                                NaN                                                                                                                                 \n",
       "3                                                NaN                                                                                                                                 \n",
       "\n",
       "0 In the next 2 years, do you hope to become more familiar with any of these tools for managing ML experiments? (Select all that apply) - Selected Choice -  MLflow   \\\n",
       "1                                                NaN                                                                                                                   \n",
       "2                                                NaN                                                                                                                   \n",
       "3                                                NaN                                                                                                                   \n",
       "\n",
       "0 In the next 2 years, do you hope to become more familiar with any of these tools for managing ML experiments? (Select all that apply) - Selected Choice - None  \\\n",
       "1                                                NaN                                                                                                               \n",
       "2                                               None                                                                                                               \n",
       "3                                                NaN                                                                                                               \n",
       "\n",
       "0 In the next 2 years, do you hope to become more familiar with any of these tools for managing ML experiments? (Select all that apply) - Selected Choice - Other  \n",
       "1                                                NaN                                                                                                               \n",
       "2                                                NaN                                                                                                               \n",
       "3                                                NaN                                                                                                               \n",
       "\n",
       "[3 rows x 369 columns]"
      ]
     },
     "execution_count": 8,
     "metadata": {},
     "output_type": "execute_result"
    }
   ],
   "source": [
    "df.drop(index = df.index[0], axis = 0, inplace = True) # dropping the first row since we used as column names\n",
    "df.head(3)"
   ]
  },
  {
   "cell_type": "code",
   "execution_count": 9,
   "id": "c9bab5f4",
   "metadata": {},
   "outputs": [
    {
     "data": {
      "text/html": [
       "<div>\n",
       "<style scoped>\n",
       "    .dataframe tbody tr th:only-of-type {\n",
       "        vertical-align: middle;\n",
       "    }\n",
       "\n",
       "    .dataframe tbody tr th {\n",
       "        vertical-align: top;\n",
       "    }\n",
       "\n",
       "    .dataframe thead th {\n",
       "        text-align: right;\n",
       "    }\n",
       "</style>\n",
       "<table border=\"1\" class=\"dataframe\">\n",
       "  <thead>\n",
       "    <tr style=\"text-align: right;\">\n",
       "      <th></th>\n",
       "      <th>Duration (in seconds)</th>\n",
       "      <th>Range Of Age</th>\n",
       "      <th>Gender</th>\n",
       "      <th>Country Of Residence</th>\n",
       "      <th>Level Of Education</th>\n",
       "      <th>Current Role</th>\n",
       "      <th>Programming Experience (Years)</th>\n",
       "    </tr>\n",
       "  </thead>\n",
       "  <tbody>\n",
       "    <tr>\n",
       "      <th>1</th>\n",
       "      <td>910</td>\n",
       "      <td>50-54</td>\n",
       "      <td>Man</td>\n",
       "      <td>India</td>\n",
       "      <td>Bachelor’s degree</td>\n",
       "      <td>Other</td>\n",
       "      <td>5-10 years</td>\n",
       "    </tr>\n",
       "    <tr>\n",
       "      <th>2</th>\n",
       "      <td>784</td>\n",
       "      <td>50-54</td>\n",
       "      <td>Man</td>\n",
       "      <td>Indonesia</td>\n",
       "      <td>Master’s degree</td>\n",
       "      <td>Program/Project Manager</td>\n",
       "      <td>20+ years</td>\n",
       "    </tr>\n",
       "    <tr>\n",
       "      <th>3</th>\n",
       "      <td>924</td>\n",
       "      <td>22-24</td>\n",
       "      <td>Man</td>\n",
       "      <td>Pakistan</td>\n",
       "      <td>Master’s degree</td>\n",
       "      <td>Software Engineer</td>\n",
       "      <td>1-3 years</td>\n",
       "    </tr>\n",
       "    <tr>\n",
       "      <th>4</th>\n",
       "      <td>575</td>\n",
       "      <td>45-49</td>\n",
       "      <td>Man</td>\n",
       "      <td>Mexico</td>\n",
       "      <td>Doctoral degree</td>\n",
       "      <td>Research Scientist</td>\n",
       "      <td>20+ years</td>\n",
       "    </tr>\n",
       "    <tr>\n",
       "      <th>5</th>\n",
       "      <td>781</td>\n",
       "      <td>45-49</td>\n",
       "      <td>Man</td>\n",
       "      <td>India</td>\n",
       "      <td>Doctoral degree</td>\n",
       "      <td>Other</td>\n",
       "      <td>&lt; 1 years</td>\n",
       "    </tr>\n",
       "    <tr>\n",
       "      <th>...</th>\n",
       "      <td>...</td>\n",
       "      <td>...</td>\n",
       "      <td>...</td>\n",
       "      <td>...</td>\n",
       "      <td>...</td>\n",
       "      <td>...</td>\n",
       "      <td>...</td>\n",
       "    </tr>\n",
       "    <tr>\n",
       "      <th>25969</th>\n",
       "      <td>1756</td>\n",
       "      <td>30-34</td>\n",
       "      <td>Man</td>\n",
       "      <td>Egypt</td>\n",
       "      <td>Bachelor’s degree</td>\n",
       "      <td>Data Analyst</td>\n",
       "      <td>1-3 years</td>\n",
       "    </tr>\n",
       "    <tr>\n",
       "      <th>25970</th>\n",
       "      <td>253</td>\n",
       "      <td>22-24</td>\n",
       "      <td>Man</td>\n",
       "      <td>China</td>\n",
       "      <td>Master’s degree</td>\n",
       "      <td>Student</td>\n",
       "      <td>1-3 years</td>\n",
       "    </tr>\n",
       "    <tr>\n",
       "      <th>25971</th>\n",
       "      <td>494</td>\n",
       "      <td>50-54</td>\n",
       "      <td>Man</td>\n",
       "      <td>Sweden</td>\n",
       "      <td>Doctoral degree</td>\n",
       "      <td>Research Scientist</td>\n",
       "      <td>I have never written code</td>\n",
       "    </tr>\n",
       "    <tr>\n",
       "      <th>25972</th>\n",
       "      <td>277</td>\n",
       "      <td>45-49</td>\n",
       "      <td>Man</td>\n",
       "      <td>United States of America</td>\n",
       "      <td>Master’s degree</td>\n",
       "      <td>Data Scientist</td>\n",
       "      <td>5-10 years</td>\n",
       "    </tr>\n",
       "    <tr>\n",
       "      <th>25973</th>\n",
       "      <td>255</td>\n",
       "      <td>18-21</td>\n",
       "      <td>Man</td>\n",
       "      <td>India</td>\n",
       "      <td>Bachelor’s degree</td>\n",
       "      <td>Business Analyst</td>\n",
       "      <td>I have never written code</td>\n",
       "    </tr>\n",
       "  </tbody>\n",
       "</table>\n",
       "<p>25973 rows × 7 columns</p>\n",
       "</div>"
      ],
      "text/plain": [
       "0     Duration (in seconds) Range Of Age Gender      Country Of Residence  \\\n",
       "1                       910        50-54    Man                     India   \n",
       "2                       784        50-54    Man                 Indonesia   \n",
       "3                       924        22-24    Man                  Pakistan   \n",
       "4                       575        45-49    Man                    Mexico   \n",
       "5                       781        45-49    Man                     India   \n",
       "...                     ...          ...    ...                       ...   \n",
       "25969                  1756        30-34    Man                     Egypt   \n",
       "25970                   253        22-24    Man                     China   \n",
       "25971                   494        50-54    Man                    Sweden   \n",
       "25972                   277        45-49    Man  United States of America   \n",
       "25973                   255        18-21    Man                     India   \n",
       "\n",
       "0     Level Of Education             Current Role  \\\n",
       "1      Bachelor’s degree                    Other   \n",
       "2        Master’s degree  Program/Project Manager   \n",
       "3        Master’s degree        Software Engineer   \n",
       "4        Doctoral degree       Research Scientist   \n",
       "5        Doctoral degree                    Other   \n",
       "...                  ...                      ...   \n",
       "25969  Bachelor’s degree             Data Analyst   \n",
       "25970    Master’s degree                  Student   \n",
       "25971    Doctoral degree       Research Scientist   \n",
       "25972    Master’s degree           Data Scientist   \n",
       "25973  Bachelor’s degree         Business Analyst   \n",
       "\n",
       "0     Programming Experience (Years)  \n",
       "1                         5-10 years  \n",
       "2                          20+ years  \n",
       "3                          1-3 years  \n",
       "4                          20+ years  \n",
       "5                          < 1 years  \n",
       "...                              ...  \n",
       "25969                      1-3 years  \n",
       "25970                      1-3 years  \n",
       "25971      I have never written code  \n",
       "25972                     5-10 years  \n",
       "25973      I have never written code  \n",
       "\n",
       "[25973 rows x 7 columns]"
      ]
     },
     "execution_count": 9,
     "metadata": {},
     "output_type": "execute_result"
    }
   ],
   "source": [
    "# Selecting first 7 columns \n",
    "df1 = df.iloc[: , :7]\n",
    "df1\n",
    "\n",
    "# Renaming the columns\n",
    "df1 = df1.rename(columns = {'What is your age (# years)?':'Range Of Age', \n",
    "                            'What is your gender? - Selected Choice': 'Gender',\n",
    "                            'In which country do you currently reside?': 'Country Of Residence',\n",
    "                            'What is the highest level of formal education that you have attained or plan to attain within the next 2 years?':'Level Of Education', \n",
    "                            'Select the title most similar to your current role (or most recent title if retired): - Selected Choice': 'Current Role',\n",
    "                            'For how many years have you been writing code and/or programming?':'Programming Experience (Years)'})\n",
    "df1"
   ]
  },
  {
   "cell_type": "code",
   "execution_count": 10,
   "id": "1a666ec6",
   "metadata": {},
   "outputs": [
    {
     "data": {
      "text/html": [
       "<div>\n",
       "<style scoped>\n",
       "    .dataframe tbody tr th:only-of-type {\n",
       "        vertical-align: middle;\n",
       "    }\n",
       "\n",
       "    .dataframe tbody tr th {\n",
       "        vertical-align: top;\n",
       "    }\n",
       "\n",
       "    .dataframe thead th {\n",
       "        text-align: right;\n",
       "    }\n",
       "</style>\n",
       "<table border=\"1\" class=\"dataframe\">\n",
       "  <thead>\n",
       "    <tr style=\"text-align: right;\">\n",
       "      <th></th>\n",
       "      <th>Range Of Age</th>\n",
       "      <th>Frequency</th>\n",
       "    </tr>\n",
       "  </thead>\n",
       "  <tbody>\n",
       "    <tr>\n",
       "      <th>1</th>\n",
       "      <td>18-21</td>\n",
       "      <td>4901</td>\n",
       "    </tr>\n",
       "    <tr>\n",
       "      <th>2</th>\n",
       "      <td>22-24</td>\n",
       "      <td>4694</td>\n",
       "    </tr>\n",
       "    <tr>\n",
       "      <th>0</th>\n",
       "      <td>25-29</td>\n",
       "      <td>4931</td>\n",
       "    </tr>\n",
       "    <tr>\n",
       "      <th>3</th>\n",
       "      <td>30-34</td>\n",
       "      <td>3441</td>\n",
       "    </tr>\n",
       "    <tr>\n",
       "      <th>4</th>\n",
       "      <td>35-39</td>\n",
       "      <td>2504</td>\n",
       "    </tr>\n",
       "    <tr>\n",
       "      <th>5</th>\n",
       "      <td>40-44</td>\n",
       "      <td>1890</td>\n",
       "    </tr>\n",
       "    <tr>\n",
       "      <th>6</th>\n",
       "      <td>45-49</td>\n",
       "      <td>1375</td>\n",
       "    </tr>\n",
       "    <tr>\n",
       "      <th>7</th>\n",
       "      <td>50-54</td>\n",
       "      <td>964</td>\n",
       "    </tr>\n",
       "    <tr>\n",
       "      <th>8</th>\n",
       "      <td>55-59</td>\n",
       "      <td>592</td>\n",
       "    </tr>\n",
       "    <tr>\n",
       "      <th>9</th>\n",
       "      <td>60-69</td>\n",
       "      <td>553</td>\n",
       "    </tr>\n",
       "    <tr>\n",
       "      <th>10</th>\n",
       "      <td>70+</td>\n",
       "      <td>128</td>\n",
       "    </tr>\n",
       "  </tbody>\n",
       "</table>\n",
       "</div>"
      ],
      "text/plain": [
       "   Range Of Age  Frequency\n",
       "1         18-21       4901\n",
       "2         22-24       4694\n",
       "0         25-29       4931\n",
       "3         30-34       3441\n",
       "4         35-39       2504\n",
       "5         40-44       1890\n",
       "6         45-49       1375\n",
       "7         50-54        964\n",
       "8         55-59        592\n",
       "9         60-69        553\n",
       "10          70+        128"
      ]
     },
     "execution_count": 10,
     "metadata": {},
     "output_type": "execute_result"
    }
   ],
   "source": [
    "# The code below counts the value for each range of age and sort them from youngest to oldest range of age\n",
    "df_age = df1['Range Of Age'].value_counts().reset_index().sort_values(by='index')\n",
    "df_age = df_age.rename(columns={'index':'Range Of Age', 'Range Of Age': 'Frequency'})\n",
    "df_age"
   ]
  },
  {
   "cell_type": "code",
   "execution_count": 11,
   "id": "2523daec",
   "metadata": {},
   "outputs": [
    {
     "data": {
      "image/png": "[encoded data removed]",
      "text/plain": [
       "<Figure size 720x360 with 1 Axes>"
      ]
     },
     "metadata": {},
     "output_type": "display_data"
    }
   ],
   "source": [
    "plt.style.use('ggplot')\n",
    "sns.catplot(x='Frequency',y='Range Of Age',data=df_age,kind='bar')\n",
    "plt.gcf().set_size_inches(10,5)"
   ]
  },
  {
   "cell_type": "code",
   "execution_count": 12,
   "id": "77ec9b25",
   "metadata": {},
   "outputs": [
    {
     "data": {
      "text/html": [
       "<div>\n",
       "<style scoped>\n",
       "    .dataframe tbody tr th:only-of-type {\n",
       "        vertical-align: middle;\n",
       "    }\n",
       "\n",
       "    .dataframe tbody tr th {\n",
       "        vertical-align: top;\n",
       "    }\n",
       "\n",
       "    .dataframe thead th {\n",
       "        text-align: right;\n",
       "    }\n",
       "</style>\n",
       "<table border=\"1\" class=\"dataframe\">\n",
       "  <thead>\n",
       "    <tr style=\"text-align: right;\">\n",
       "      <th></th>\n",
       "      <th>index</th>\n",
       "      <th>Country Of Residence</th>\n",
       "    </tr>\n",
       "  </thead>\n",
       "  <tbody>\n",
       "    <tr>\n",
       "      <th>0</th>\n",
       "      <td>India</td>\n",
       "      <td>7434</td>\n",
       "    </tr>\n",
       "    <tr>\n",
       "      <th>1</th>\n",
       "      <td>United States of America</td>\n",
       "      <td>2650</td>\n",
       "    </tr>\n",
       "    <tr>\n",
       "      <th>2</th>\n",
       "      <td>Other</td>\n",
       "      <td>1270</td>\n",
       "    </tr>\n",
       "    <tr>\n",
       "      <th>3</th>\n",
       "      <td>Japan</td>\n",
       "      <td>921</td>\n",
       "    </tr>\n",
       "    <tr>\n",
       "      <th>4</th>\n",
       "      <td>China</td>\n",
       "      <td>814</td>\n",
       "    </tr>\n",
       "    <tr>\n",
       "      <th>...</th>\n",
       "      <td>...</td>\n",
       "      <td>...</td>\n",
       "    </tr>\n",
       "    <tr>\n",
       "      <th>61</th>\n",
       "      <td>Norway</td>\n",
       "      <td>45</td>\n",
       "    </tr>\n",
       "    <tr>\n",
       "      <th>62</th>\n",
       "      <td>Kazakhstan</td>\n",
       "      <td>45</td>\n",
       "    </tr>\n",
       "    <tr>\n",
       "      <th>63</th>\n",
       "      <td>Algeria</td>\n",
       "      <td>44</td>\n",
       "    </tr>\n",
       "    <tr>\n",
       "      <th>64</th>\n",
       "      <td>Iraq</td>\n",
       "      <td>43</td>\n",
       "    </tr>\n",
       "    <tr>\n",
       "      <th>65</th>\n",
       "      <td>Ethiopia</td>\n",
       "      <td>43</td>\n",
       "    </tr>\n",
       "  </tbody>\n",
       "</table>\n",
       "<p>66 rows × 2 columns</p>\n",
       "</div>"
      ],
      "text/plain": [
       "                       index  Country Of Residence\n",
       "0                      India                  7434\n",
       "1   United States of America                  2650\n",
       "2                      Other                  1270\n",
       "3                      Japan                   921\n",
       "4                      China                   814\n",
       "..                       ...                   ...\n",
       "61                    Norway                    45\n",
       "62                Kazakhstan                    45\n",
       "63                   Algeria                    44\n",
       "64                      Iraq                    43\n",
       "65                  Ethiopia                    43\n",
       "\n",
       "[66 rows x 2 columns]"
      ]
     },
     "execution_count": 12,
     "metadata": {},
     "output_type": "execute_result"
    }
   ],
   "source": [
    "countries = df1['Country Of Residence'].value_counts().reset_index().sort_values(by='Country Of Residence', ascending = False)\n",
    "countries"
   ]
  },
  {
   "cell_type": "code",
   "execution_count": 13,
   "id": "606e4e9b",
   "metadata": {},
   "outputs": [],
   "source": [
    "data = dict(\n",
    "        type = 'choropleth',\n",
    "        locations = countries['index'],\n",
    "        locationmode='country names',\n",
    "        z = countries['Country Of Residence'],\n",
    "      ) "
   ]
  },
  {
   "cell_type": "code",
   "execution_count": 14,
   "id": "ad2ec30e",
   "metadata": {},
   "outputs": [],
   "source": [
    "layout = dict(\n",
    "    title = 'Data Scientists and ML Engineers Around The World',\n",
    "    geo = dict(\n",
    "        showframe = False,\n",
    "        projection = {'type':'mercator'}\n",
    "    )\n",
    ")"
   ]
  },
  {
   "cell_type": "code",
   "execution_count": 15,
   "id": "e34df4fc",
   "metadata": {},
   "outputs": [
    {
     "data": {
      "application/vnd.plotly.v1+json": {
       "config": {
        "linkText": "Export to plot.ly",
        "plotlyServerURL": "https://plot.ly",
        "showLink": false
       },
       "data": [
        {
         "locationmode": "country names",
         "locations": [
          "India",
          "United States of America",
          "Other",
          "Japan",
          "China",
          "Brazil",
          "Russia",
          "Nigeria",
          "United Kingdom of Great Britain and Northern Ireland",
          "Pakistan",
          "Egypt",
          "Germany",
          "Spain",
          "Indonesia",
          "Turkey",
          "France",
          "South Korea",
          "Taiwan",
          "Canada",
          "Bangladesh",
          "Italy",
          "Mexico",
          "Viet Nam",
          "Australia",
          "Kenya",
          "Colombia",
          "Poland",
          "Iran, Islamic Republic of...",
          "Ukraine",
          "Argentina",
          "Singapore",
          "Malaysia",
          "Netherlands",
          "South Africa",
          "Morocco",
          "Israel",
          "Thailand",
          "Portugal",
          "Peru",
          "United Arab Emirates",
          "Tunisia",
          "Philippines",
          "Sri Lanka",
          "Chile",
          "Greece",
          "Ghana",
          "Saudi Arabia",
          "Ireland",
          "Sweden",
          "Hong Kong (S.A.R.)",
          "Nepal",
          "Switzerland",
          "I do not wish to disclose my location",
          "Belgium",
          "Czech Republic",
          "Romania",
          "Belarus",
          "Austria",
          "Ecuador",
          "Denmark",
          "Uganda",
          "Norway",
          "Kazakhstan",
          "Algeria",
          "Iraq",
          "Ethiopia"
         ],
         "type": "choropleth",
         "z": [
          7434,
          2650,
          1270,
          921,
          814,
          751,
          742,
          702,
          550,
          530,
          482,
          470,
          454,
          444,
          416,
          401,
          359,
          334,
          331,
          317,
          311,
          279,
          277,
          264,
          248,
          225,
          219,
          195,
          186,
          182,
          182,
          156,
          153,
          146,
          140,
          138,
          123,
          119,
          117,
          111,
          109,
          108,
          106,
          102,
          102,
          99,
          89,
          84,
          81,
          79,
          75,
          71,
          69,
          65,
          63,
          61,
          51,
          51,
          50,
          48,
          47,
          45,
          45,
          44,
          43,
          43
         ]
        }
       ],
       "layout": {
        "geo": {
         "projection": {
          "type": "mercator"
         },
         "showframe": false
        },
        "template": {
         "data": {
          "bar": [
           {
            "error_x": {
             "color": "#2a3f5f"
            },
            "error_y": {
             "color": "#2a3f5f"
            },
            "marker": {
             "line": {
              "color": "#E5ECF6",
              "width": 0.5
             },
             "pattern": {
              "fillmode": "overlay",
              "size": 10,
              "solidity": 0.2
             }
            },
            "type": "bar"
           }
          ],
          "barpolar": [
           {
            "marker": {
             "line": {
              "color": "#E5ECF6",
              "width": 0.5
             },
             "pattern": {
              "fillmode": "overlay",
              "size": 10,
              "solidity": 0.2
             }
            },
            "type": "barpolar"
           }
          ],
          "carpet": [
           {
            "aaxis": {
             "endlinecolor": "#2a3f5f",
             "gridcolor": "white",
             "linecolor": "white",
             "minorgridcolor": "white",
             "startlinecolor": "#2a3f5f"
            },
            "baxis": {
             "endlinecolor": "#2a3f5f",
             "gridcolor": "white",
             "linecolor": "white",
             "minorgridcolor": "white",
             "startlinecolor": "#2a3f5f"
            },
            "type": "carpet"
           }
          ],
          "choropleth": [
           {
            "colorbar": {
             "outlinewidth": 0,
             "ticks": ""
            },
            "type": "choropleth"
           }
          ],
          "contour": [
           {
            "colorbar": {
             "outlinewidth": 0,
             "ticks": ""
            },
            "colorscale": [
             [
              0,
              "#0d0887"
             ],
             [
              0.1111111111111111,
              "#46039f"
             ],
             [
              0.2222222222222222,
              "#7201a8"
             ],
             [
              0.3333333333333333,
              "#9c179e"
             ],
             [
              0.4444444444444444,
              "#bd3786"
             ],
             [
              0.5555555555555556,
              "#d8576b"
             ],
             [
              0.6666666666666666,
              "#ed7953"
             ],
             [
              0.7777777777777778,
              "#fb9f3a"
             ],
             [
              0.8888888888888888,
              "#fdca26"
             ],
             [
              1,
              "#f0f921"
             ]
            ],
            "type": "contour"
           }
          ],
          "contourcarpet": [
           {
            "colorbar": {
             "outlinewidth": 0,
             "ticks": ""
            },
            "type": "contourcarpet"
           }
          ],
          "heatmap": [
           {
            "colorbar": {
             "outlinewidth": 0,
             "ticks": ""
            },
            "colorscale": [
             [
              0,
              "#0d0887"
             ],
             [
              0.1111111111111111,
              "#46039f"
             ],
             [
              0.2222222222222222,
              "#7201a8"
             ],
             [
              0.3333333333333333,
              "#9c179e"
             ],
             [
              0.4444444444444444,
              "#bd3786"
             ],
             [
              0.5555555555555556,
              "#d8576b"
             ],
             [
              0.6666666666666666,
              "#ed7953"
             ],
             [
              0.7777777777777778,
              "#fb9f3a"
             ],
             [
              0.8888888888888888,
              "#fdca26"
             ],
             [
              1,
              "#f0f921"
             ]
            ],
            "type": "heatmap"
           }
          ],
          "heatmapgl": [
           {
            "colorbar": {
             "outlinewidth": 0,
             "ticks": ""
            },
            "colorscale": [
             [
              0,
              "#0d0887"
             ],
             [
              0.1111111111111111,
              "#46039f"
             ],
             [
              0.2222222222222222,
              "#7201a8"
             ],
             [
              0.3333333333333333,
              "#9c179e"
             ],
             [
              0.4444444444444444,
              "#bd3786"
             ],
             [
              0.5555555555555556,
              "#d8576b"
             ],
             [
              0.6666666666666666,
              "#ed7953"
             ],
             [
              0.7777777777777778,
              "#fb9f3a"
             ],
             [
              0.8888888888888888,
              "#fdca26"
             ],
             [
              1,
              "#f0f921"
             ]
            ],
            "type": "heatmapgl"
           }
          ],
          "histogram": [
           {
            "marker": {
             "pattern": {
              "fillmode": "overlay",
              "size": 10,
              "solidity": 0.2
             }
            },
            "type": "histogram"
           }
          ],
          "histogram2d": [
           {
            "colorbar": {
             "outlinewidth": 0,
             "ticks": ""
            },
            "colorscale": [
             [
              0,
              "#0d0887"
             ],
             [
              0.1111111111111111,
              "#46039f"
             ],
             [
              0.2222222222222222,
              "#7201a8"
             ],
             [
              0.3333333333333333,
              "#9c179e"
             ],
             [
              0.4444444444444444,
              "#bd3786"
             ],
             [
              0.5555555555555556,
              "#d8576b"
             ],
             [
              0.6666666666666666,
              "#ed7953"
             ],
             [
              0.7777777777777778,
              "#fb9f3a"
             ],
             [
              0.8888888888888888,
              "#fdca26"
             ],
             [
              1,
              "#f0f921"
             ]
            ],
            "type": "histogram2d"
           }
          ],
          "histogram2dcontour": [
           {
            "colorbar": {
             "outlinewidth": 0,
             "ticks": ""
            },
            "colorscale": [
             [
              0,
              "#0d0887"
             ],
             [
              0.1111111111111111,
              "#46039f"
             ],
             [
              0.2222222222222222,
              "#7201a8"
             ],
             [
              0.3333333333333333,
              "#9c179e"
             ],
             [
              0.4444444444444444,
              "#bd3786"
             ],
             [
              0.5555555555555556,
              "#d8576b"
             ],
             [
              0.6666666666666666,
              "#ed7953"
             ],
             [
              0.7777777777777778,
              "#fb9f3a"
             ],
             [
              0.8888888888888888,
              "#fdca26"
             ],
             [
              1,
              "#f0f921"
             ]
            ],
            "type": "histogram2dcontour"
           }
          ],
          "mesh3d": [
           {
            "colorbar": {
             "outlinewidth": 0,
             "ticks": ""
            },
            "type": "mesh3d"
           }
          ],
          "parcoords": [
           {
            "line": {
             "colorbar": {
              "outlinewidth": 0,
              "ticks": ""
             }
            },
            "type": "parcoords"
           }
          ],
          "pie": [
           {
            "automargin": true,
            "type": "pie"
           }
          ],
          "scatter": [
           {
            "marker": {
             "colorbar": {
              "outlinewidth": 0,
              "ticks": ""
             }
            },
            "type": "scatter"
           }
          ],
          "scatter3d": [
           {
            "line": {
             "colorbar": {
              "outlinewidth": 0,
              "ticks": ""
             }
            },
            "marker": {
             "colorbar": {
              "outlinewidth": 0,
              "ticks": ""
             }
            },
            "type": "scatter3d"
           }
          ],
          "scattercarpet": [
           {
            "marker": {
             "colorbar": {
              "outlinewidth": 0,
              "ticks": ""
             }
            },
            "type": "scattercarpet"
           }
          ],
          "scattergeo": [
           {
            "marker": {
             "colorbar": {
              "outlinewidth": 0,
              "ticks": ""
             }
            },
            "type": "scattergeo"
           }
          ],
          "scattergl": [
           {
            "marker": {
             "colorbar": {
              "outlinewidth": 0,
              "ticks": ""
             }
            },
            "type": "scattergl"
           }
          ],
          "scattermapbox": [
           {
            "marker": {
             "colorbar": {
              "outlinewidth": 0,
              "ticks": ""
             }
            },
            "type": "scattermapbox"
           }
          ],
          "scatterpolar": [
           {
            "marker": {
             "colorbar": {
              "outlinewidth": 0,
              "ticks": ""
             }
            },
            "type": "scatterpolar"
           }
          ],
          "scatterpolargl": [
           {
            "marker": {
             "colorbar": {
              "outlinewidth": 0,
              "ticks": ""
             }
            },
            "type": "scatterpolargl"
           }
          ],
          "scatterternary": [
           {
            "marker": {
             "colorbar": {
              "outlinewidth": 0,
              "ticks": ""
             }
            },
            "type": "scatterternary"
           }
          ],
          "surface": [
           {
            "colorbar": {
             "outlinewidth": 0,
             "ticks": ""
            },
            "colorscale": [
             [
              0,
              "#0d0887"
             ],
             [
              0.1111111111111111,
              "#46039f"
             ],
             [
              0.2222222222222222,
              "#7201a8"
             ],
             [
              0.3333333333333333,
              "#9c179e"
             ],
             [
              0.4444444444444444,
              "#bd3786"
             ],
             [
              0.5555555555555556,
              "#d8576b"
             ],
             [
              0.6666666666666666,
              "#ed7953"
             ],
             [
              0.7777777777777778,
              "#fb9f3a"
             ],
             [
              0.8888888888888888,
              "#fdca26"
             ],
             [
              1,
              "#f0f921"
             ]
            ],
            "type": "surface"
           }
          ],
          "table": [
           {
            "cells": {
             "fill": {
              "color": "#EBF0F8"
             },
             "line": {
              "color": "white"
             }
            },
            "header": {
             "fill": {
              "color": "#C8D4E3"
             },
             "line": {
              "color": "white"
             }
            },
            "type": "table"
           }
          ]
         },
         "layout": {
          "annotationdefaults": {
           "arrowcolor": "#2a3f5f",
           "arrowhead": 0,
           "arrowwidth": 1
          },
          "autotypenumbers": "strict",
          "coloraxis": {
           "colorbar": {
            "outlinewidth": 0,
            "ticks": ""
           }
          },
          "colorscale": {
           "diverging": [
            [
             0,
             "#8e0152"
            ],
            [
             0.1,
             "#c51b7d"
            ],
            [
             0.2,
             "#de77ae"
            ],
            [
             0.3,
             "#f1b6da"
            ],
            [
             0.4,
             "#fde0ef"
            ],
            [
             0.5,
             "#f7f7f7"
            ],
            [
             0.6,
             "#e6f5d0"
            ],
            [
             0.7,
             "#b8e186"
            ],
            [
             0.8,
             "#7fbc41"
            ],
            [
             0.9,
             "#4d9221"
            ],
            [
             1,
             "#276419"
            ]
           ],
           "sequential": [
            [
             0,
             "#0d0887"
            ],
            [
             0.1111111111111111,
             "#46039f"
            ],
            [
             0.2222222222222222,
             "#7201a8"
            ],
            [
             0.3333333333333333,
             "#9c179e"
            ],
            [
             0.4444444444444444,
             "#bd3786"
            ],
            [
             0.5555555555555556,
             "#d8576b"
            ],
            [
             0.6666666666666666,
             "#ed7953"
            ],
            [
             0.7777777777777778,
             "#fb9f3a"
            ],
            [
             0.8888888888888888,
             "#fdca26"
            ],
            [
             1,
             "#f0f921"
            ]
           ],
           "sequentialminus": [
            [
             0,
             "#0d0887"
            ],
            [
             0.1111111111111111,
             "#46039f"
            ],
            [
             0.2222222222222222,
             "#7201a8"
            ],
            [
             0.3333333333333333,
             "#9c179e"
            ],
            [
             0.4444444444444444,
             "#bd3786"
            ],
            [
             0.5555555555555556,
             "#d8576b"
            ],
            [
             0.6666666666666666,
             "#ed7953"
            ],
            [
             0.7777777777777778,
             "#fb9f3a"
            ],
            [
             0.8888888888888888,
             "#fdca26"
            ],
            [
             1,
             "#f0f921"
            ]
           ]
          },
          "colorway": [
           "#636efa",
           "#EF553B",
           "#00cc96",
           "#ab63fa",
           "#FFA15A",
           "#19d3f3",
           "#FF6692",
           "#B6E880",
           "#FF97FF",
           "#FECB52"
          ],
          "font": {
           "color": "#2a3f5f"
          },
          "geo": {
           "bgcolor": "white",
           "lakecolor": "white",
           "landcolor": "#E5ECF6",
           "showlakes": true,
           "showland": true,
           "subunitcolor": "white"
          },
          "hoverlabel": {
           "align": "left"
          },
          "hovermode": "closest",
          "mapbox": {
           "style": "light"
          },
          "paper_bgcolor": "white",
          "plot_bgcolor": "#E5ECF6",
          "polar": {
           "angularaxis": {
            "gridcolor": "white",
            "linecolor": "white",
            "ticks": ""
           },
           "bgcolor": "#E5ECF6",
           "radialaxis": {
            "gridcolor": "white",
            "linecolor": "white",
            "ticks": ""
           }
          },
          "scene": {
           "xaxis": {
            "backgroundcolor": "#E5ECF6",
            "gridcolor": "white",
            "gridwidth": 2,
            "linecolor": "white",
            "showbackground": true,
            "ticks": "",
            "zerolinecolor": "white"
           },
           "yaxis": {
            "backgroundcolor": "#E5ECF6",
            "gridcolor": "white",
            "gridwidth": 2,
            "linecolor": "white",
            "showbackground": true,
            "ticks": "",
            "zerolinecolor": "white"
           },
           "zaxis": {
            "backgroundcolor": "#E5ECF6",
            "gridcolor": "white",
            "gridwidth": 2,
            "linecolor": "white",
            "showbackground": true,
            "ticks": "",
            "zerolinecolor": "white"
           }
          },
          "shapedefaults": {
           "line": {
            "color": "#2a3f5f"
           }
          },
          "ternary": {
           "aaxis": {
            "gridcolor": "white",
            "linecolor": "white",
            "ticks": ""
           },
           "baxis": {
            "gridcolor": "white",
            "linecolor": "white",
            "ticks": ""
           },
           "bgcolor": "#E5ECF6",
           "caxis": {
            "gridcolor": "white",
            "linecolor": "white",
            "ticks": ""
           }
          },
          "title": {
           "x": 0.05
          },
          "xaxis": {
           "automargin": true,
           "gridcolor": "white",
           "linecolor": "white",
           "ticks": "",
           "title": {
            "standoff": 15
           },
           "zerolinecolor": "white",
           "zerolinewidth": 2
          },
          "yaxis": {
           "automargin": true,
           "gridcolor": "white",
           "linecolor": "white",
           "ticks": "",
           "title": {
            "standoff": 15
           },
           "zerolinecolor": "white",
           "zerolinewidth": 2
          }
         }
        },
        "title": {
         "text": "Data Scientists and ML Engineers Around The World"
        }
       }
      },
      "text/html": [
       "<div>                            <div id=\"86b68691-a9e6-4f96-b766-f9008c507b1c\" class=\"plotly-graph-div\" style=\"height:525px; width:100%;\"></div>            <script type=\"text/javascript\">                require([\"plotly\"], function(Plotly) {                    window.PLOTLYENV=window.PLOTLYENV || {};                                    if (document.getElementById(\"86b68691-a9e6-4f96-b766-f9008c507b1c\")) {                    Plotly.newPlot(                        \"86b68691-a9e6-4f96-b766-f9008c507b1c\",                        [{\"locationmode\":\"country names\",\"locations\":[\"India\",\"United States of America\",\"Other\",\"Japan\",\"China\",\"Brazil\",\"Russia\",\"Nigeria\",\"United Kingdom of Great Britain and Northern Ireland\",\"Pakistan\",\"Egypt\",\"Germany\",\"Spain\",\"Indonesia\",\"Turkey\",\"France\",\"South Korea\",\"Taiwan\",\"Canada\",\"Bangladesh\",\"Italy\",\"Mexico\",\"Viet Nam\",\"Australia\",\"Kenya\",\"Colombia\",\"Poland\",\"Iran, Islamic Republic of...\",\"Ukraine\",\"Argentina\",\"Singapore\",\"Malaysia\",\"Netherlands\",\"South Africa\",\"Morocco\",\"Israel\",\"Thailand\",\"Portugal\",\"Peru\",\"United Arab Emirates\",\"Tunisia\",\"Philippines\",\"Sri Lanka\",\"Chile\",\"Greece\",\"Ghana\",\"Saudi Arabia\",\"Ireland\",\"Sweden\",\"Hong Kong (S.A.R.)\",\"Nepal\",\"Switzerland\",\"I do not wish to disclose my location\",\"Belgium\",\"Czech Republic\",\"Romania\",\"Belarus\",\"Austria\",\"Ecuador\",\"Denmark\",\"Uganda\",\"Norway\",\"Kazakhstan\",\"Algeria\",\"Iraq\",\"Ethiopia\"],\"z\":[7434,2650,1270,921,814,751,742,702,550,530,482,470,454,444,416,401,359,334,331,317,311,279,277,264,248,225,219,195,186,182,182,156,153,146,140,138,123,119,117,111,109,108,106,102,102,99,89,84,81,79,75,71,69,65,63,61,51,51,50,48,47,45,45,44,43,43],\"type\":\"choropleth\"}],                        {\"geo\":{\"projection\":{\"type\":\"mercator\"},\"showframe\":false},\"template\":{\"data\":{\"barpolar\":[{\"marker\":{\"line\":{\"color\":\"#E5ECF6\",\"width\":0.5},\"pattern\":{\"fillmode\":\"overlay\",\"size\":10,\"solidity\":0.2}},\"type\":\"barpolar\"}],\"bar\":[{\"error_x\":{\"color\":\"#2a3f5f\"},\"error_y\":{\"color\":\"#2a3f5f\"},\"marker\":{\"line\":{\"color\":\"#E5ECF6\",\"width\":0.5},\"pattern\":{\"fillmode\":\"overlay\",\"size\":10,\"solidity\":0.2}},\"type\":\"bar\"}],\"carpet\":[{\"aaxis\":{\"endlinecolor\":\"#2a3f5f\",\"gridcolor\":\"white\",\"linecolor\":\"white\",\"minorgridcolor\":\"white\",\"startlinecolor\":\"#2a3f5f\"},\"baxis\":{\"endlinecolor\":\"#2a3f5f\",\"gridcolor\":\"white\",\"linecolor\":\"white\",\"minorgridcolor\":\"white\",\"startlinecolor\":\"#2a3f5f\"},\"type\":\"carpet\"}],\"choropleth\":[{\"colorbar\":{\"outlinewidth\":0,\"ticks\":\"\"},\"type\":\"choropleth\"}],\"contourcarpet\":[{\"colorbar\":{\"outlinewidth\":0,\"ticks\":\"\"},\"type\":\"contourcarpet\"}],\"contour\":[{\"colorbar\":{\"outlinewidth\":0,\"ticks\":\"\"},\"colorscale\":[[0.0,\"#0d0887\"],[0.1111111111111111,\"#46039f\"],[0.2222222222222222,\"#7201a8\"],[0.3333333333333333,\"#9c179e\"],[0.4444444444444444,\"#bd3786\"],[0.5555555555555556,\"#d8576b\"],[0.6666666666666666,\"#ed7953\"],[0.7777777777777778,\"#fb9f3a\"],[0.8888888888888888,\"#fdca26\"],[1.0,\"#f0f921\"]],\"type\":\"contour\"}],\"heatmapgl\":[{\"colorbar\":{\"outlinewidth\":0,\"ticks\":\"\"},\"colorscale\":[[0.0,\"#0d0887\"],[0.1111111111111111,\"#46039f\"],[0.2222222222222222,\"#7201a8\"],[0.3333333333333333,\"#9c179e\"],[0.4444444444444444,\"#bd3786\"],[0.5555555555555556,\"#d8576b\"],[0.6666666666666666,\"#ed7953\"],[0.7777777777777778,\"#fb9f3a\"],[0.8888888888888888,\"#fdca26\"],[1.0,\"#f0f921\"]],\"type\":\"heatmapgl\"}],\"heatmap\":[{\"colorbar\":{\"outlinewidth\":0,\"ticks\":\"\"},\"colorscale\":[[0.0,\"#0d0887\"],[0.1111111111111111,\"#46039f\"],[0.2222222222222222,\"#7201a8\"],[0.3333333333333333,\"#9c179e\"],[0.4444444444444444,\"#bd3786\"],[0.5555555555555556,\"#d8576b\"],[0.6666666666666666,\"#ed7953\"],[0.7777777777777778,\"#fb9f3a\"],[0.8888888888888888,\"#fdca26\"],[1.0,\"#f0f921\"]],\"type\":\"heatmap\"}],\"histogram2dcontour\":[{\"colorbar\":{\"outlinewidth\":0,\"ticks\":\"\"},\"colorscale\":[[0.0,\"#0d0887\"],[0.1111111111111111,\"#46039f\"],[0.2222222222222222,\"#7201a8\"],[0.3333333333333333,\"#9c179e\"],[0.4444444444444444,\"#bd3786\"],[0.5555555555555556,\"#d8576b\"],[0.6666666666666666,\"#ed7953\"],[0.7777777777777778,\"#fb9f3a\"],[0.8888888888888888,\"#fdca26\"],[1.0,\"#f0f921\"]],\"type\":\"histogram2dcontour\"}],\"histogram2d\":[{\"colorbar\":{\"outlinewidth\":0,\"ticks\":\"\"},\"colorscale\":[[0.0,\"#0d0887\"],[0.1111111111111111,\"#46039f\"],[0.2222222222222222,\"#7201a8\"],[0.3333333333333333,\"#9c179e\"],[0.4444444444444444,\"#bd3786\"],[0.5555555555555556,\"#d8576b\"],[0.6666666666666666,\"#ed7953\"],[0.7777777777777778,\"#fb9f3a\"],[0.8888888888888888,\"#fdca26\"],[1.0,\"#f0f921\"]],\"type\":\"histogram2d\"}],\"histogram\":[{\"marker\":{\"pattern\":{\"fillmode\":\"overlay\",\"size\":10,\"solidity\":0.2}},\"type\":\"histogram\"}],\"mesh3d\":[{\"colorbar\":{\"outlinewidth\":0,\"ticks\":\"\"},\"type\":\"mesh3d\"}],\"parcoords\":[{\"line\":{\"colorbar\":{\"outlinewidth\":0,\"ticks\":\"\"}},\"type\":\"parcoords\"}],\"pie\":[{\"automargin\":true,\"type\":\"pie\"}],\"scatter3d\":[{\"line\":{\"colorbar\":{\"outlinewidth\":0,\"ticks\":\"\"}},\"marker\":{\"colorbar\":{\"outlinewidth\":0,\"ticks\":\"\"}},\"type\":\"scatter3d\"}],\"scattercarpet\":[{\"marker\":{\"colorbar\":{\"outlinewidth\":0,\"ticks\":\"\"}},\"type\":\"scattercarpet\"}],\"scattergeo\":[{\"marker\":{\"colorbar\":{\"outlinewidth\":0,\"ticks\":\"\"}},\"type\":\"scattergeo\"}],\"scattergl\":[{\"marker\":{\"colorbar\":{\"outlinewidth\":0,\"ticks\":\"\"}},\"type\":\"scattergl\"}],\"scattermapbox\":[{\"marker\":{\"colorbar\":{\"outlinewidth\":0,\"ticks\":\"\"}},\"type\":\"scattermapbox\"}],\"scatterpolargl\":[{\"marker\":{\"colorbar\":{\"outlinewidth\":0,\"ticks\":\"\"}},\"type\":\"scatterpolargl\"}],\"scatterpolar\":[{\"marker\":{\"colorbar\":{\"outlinewidth\":0,\"ticks\":\"\"}},\"type\":\"scatterpolar\"}],\"scatter\":[{\"marker\":{\"colorbar\":{\"outlinewidth\":0,\"ticks\":\"\"}},\"type\":\"scatter\"}],\"scatterternary\":[{\"marker\":{\"colorbar\":{\"outlinewidth\":0,\"ticks\":\"\"}},\"type\":\"scatterternary\"}],\"surface\":[{\"colorbar\":{\"outlinewidth\":0,\"ticks\":\"\"},\"colorscale\":[[0.0,\"#0d0887\"],[0.1111111111111111,\"#46039f\"],[0.2222222222222222,\"#7201a8\"],[0.3333333333333333,\"#9c179e\"],[0.4444444444444444,\"#bd3786\"],[0.5555555555555556,\"#d8576b\"],[0.6666666666666666,\"#ed7953\"],[0.7777777777777778,\"#fb9f3a\"],[0.8888888888888888,\"#fdca26\"],[1.0,\"#f0f921\"]],\"type\":\"surface\"}],\"table\":[{\"cells\":{\"fill\":{\"color\":\"#EBF0F8\"},\"line\":{\"color\":\"white\"}},\"header\":{\"fill\":{\"color\":\"#C8D4E3\"},\"line\":{\"color\":\"white\"}},\"type\":\"table\"}]},\"layout\":{\"annotationdefaults\":{\"arrowcolor\":\"#2a3f5f\",\"arrowhead\":0,\"arrowwidth\":1},\"autotypenumbers\":\"strict\",\"coloraxis\":{\"colorbar\":{\"outlinewidth\":0,\"ticks\":\"\"}},\"colorscale\":{\"diverging\":[[0,\"#8e0152\"],[0.1,\"#c51b7d\"],[0.2,\"#de77ae\"],[0.3,\"#f1b6da\"],[0.4,\"#fde0ef\"],[0.5,\"#f7f7f7\"],[0.6,\"#e6f5d0\"],[0.7,\"#b8e186\"],[0.8,\"#7fbc41\"],[0.9,\"#4d9221\"],[1,\"#276419\"]],\"sequential\":[[0.0,\"#0d0887\"],[0.1111111111111111,\"#46039f\"],[0.2222222222222222,\"#7201a8\"],[0.3333333333333333,\"#9c179e\"],[0.4444444444444444,\"#bd3786\"],[0.5555555555555556,\"#d8576b\"],[0.6666666666666666,\"#ed7953\"],[0.7777777777777778,\"#fb9f3a\"],[0.8888888888888888,\"#fdca26\"],[1.0,\"#f0f921\"]],\"sequentialminus\":[[0.0,\"#0d0887\"],[0.1111111111111111,\"#46039f\"],[0.2222222222222222,\"#7201a8\"],[0.3333333333333333,\"#9c179e\"],[0.4444444444444444,\"#bd3786\"],[0.5555555555555556,\"#d8576b\"],[0.6666666666666666,\"#ed7953\"],[0.7777777777777778,\"#fb9f3a\"],[0.8888888888888888,\"#fdca26\"],[1.0,\"#f0f921\"]]},\"colorway\":[\"#636efa\",\"#EF553B\",\"#00cc96\",\"#ab63fa\",\"#FFA15A\",\"#19d3f3\",\"#FF6692\",\"#B6E880\",\"#FF97FF\",\"#FECB52\"],\"font\":{\"color\":\"#2a3f5f\"},\"geo\":{\"bgcolor\":\"white\",\"lakecolor\":\"white\",\"landcolor\":\"#E5ECF6\",\"showlakes\":true,\"showland\":true,\"subunitcolor\":\"white\"},\"hoverlabel\":{\"align\":\"left\"},\"hovermode\":\"closest\",\"mapbox\":{\"style\":\"light\"},\"paper_bgcolor\":\"white\",\"plot_bgcolor\":\"#E5ECF6\",\"polar\":{\"angularaxis\":{\"gridcolor\":\"white\",\"linecolor\":\"white\",\"ticks\":\"\"},\"bgcolor\":\"#E5ECF6\",\"radialaxis\":{\"gridcolor\":\"white\",\"linecolor\":\"white\",\"ticks\":\"\"}},\"scene\":{\"xaxis\":{\"backgroundcolor\":\"#E5ECF6\",\"gridcolor\":\"white\",\"gridwidth\":2,\"linecolor\":\"white\",\"showbackground\":true,\"ticks\":\"\",\"zerolinecolor\":\"white\"},\"yaxis\":{\"backgroundcolor\":\"#E5ECF6\",\"gridcolor\":\"white\",\"gridwidth\":2,\"linecolor\":\"white\",\"showbackground\":true,\"ticks\":\"\",\"zerolinecolor\":\"white\"},\"zaxis\":{\"backgroundcolor\":\"#E5ECF6\",\"gridcolor\":\"white\",\"gridwidth\":2,\"linecolor\":\"white\",\"showbackground\":true,\"ticks\":\"\",\"zerolinecolor\":\"white\"}},\"shapedefaults\":{\"line\":{\"color\":\"#2a3f5f\"}},\"ternary\":{\"aaxis\":{\"gridcolor\":\"white\",\"linecolor\":\"white\",\"ticks\":\"\"},\"baxis\":{\"gridcolor\":\"white\",\"linecolor\":\"white\",\"ticks\":\"\"},\"bgcolor\":\"#E5ECF6\",\"caxis\":{\"gridcolor\":\"white\",\"linecolor\":\"white\",\"ticks\":\"\"}},\"title\":{\"x\":0.05},\"xaxis\":{\"automargin\":true,\"gridcolor\":\"white\",\"linecolor\":\"white\",\"ticks\":\"\",\"title\":{\"standoff\":15},\"zerolinecolor\":\"white\",\"zerolinewidth\":2},\"yaxis\":{\"automargin\":true,\"gridcolor\":\"white\",\"linecolor\":\"white\",\"ticks\":\"\",\"title\":{\"standoff\":15},\"zerolinecolor\":\"white\",\"zerolinewidth\":2}}},\"title\":{\"text\":\"Data Scientists and ML Engineers Around The World\"}},                        {\"responsive\": true}                    ).then(function(){\n",
       "                            \n",
       "var gd = document.getElementById('86b68691-a9e6-4f96-b766-f9008c507b1c');\n",
       "var x = new MutationObserver(function (mutations, observer) {{\n",
       "        var display = window.getComputedStyle(gd).display;\n",
       "        if (!display || display === 'none') {{\n",
       "            console.log([gd, 'removed!']);\n",
       "            Plotly.purge(gd);\n",
       "            observer.disconnect();\n",
       "        }}\n",
       "}});\n",
       "\n",
       "// Listen for the removal of the full notebook cells\n",
       "var notebookContainer = gd.closest('#notebook-container');\n",
       "if (notebookContainer) {{\n",
       "    x.observe(notebookContainer, {childList: true});\n",
       "}}\n",
       "\n",
       "// Listen for the clearing of the current output cell\n",
       "var outputEl = gd.closest('.output');\n",
       "if (outputEl) {{\n",
       "    x.observe(outputEl, {childList: true});\n",
       "}}\n",
       "\n",
       "                        })                };                });            </script>        </div>"
      ]
     },
     "metadata": {},
     "output_type": "display_data"
    }
   ],
   "source": [
    "choromap = go.Figure(data = [data],layout = layout)\n",
    "iplot(choromap)"
   ]
  },
  {
   "cell_type": "code",
   "execution_count": 16,
   "id": "093815e1",
   "metadata": {},
   "outputs": [
    {
     "data": {
      "text/html": [
       "<div>\n",
       "<style scoped>\n",
       "    .dataframe tbody tr th:only-of-type {\n",
       "        vertical-align: middle;\n",
       "    }\n",
       "\n",
       "    .dataframe tbody tr th {\n",
       "        vertical-align: top;\n",
       "    }\n",
       "\n",
       "    .dataframe thead th {\n",
       "        text-align: right;\n",
       "    }\n",
       "</style>\n",
       "<table border=\"1\" class=\"dataframe\">\n",
       "  <thead>\n",
       "    <tr style=\"text-align: right;\">\n",
       "      <th></th>\n",
       "      <th>index</th>\n",
       "      <th>Level Of Education</th>\n",
       "    </tr>\n",
       "  </thead>\n",
       "  <tbody>\n",
       "    <tr>\n",
       "      <th>0</th>\n",
       "      <td>Master’s degree</td>\n",
       "      <td>10132</td>\n",
       "    </tr>\n",
       "    <tr>\n",
       "      <th>1</th>\n",
       "      <td>Bachelor’s degree</td>\n",
       "      <td>9907</td>\n",
       "    </tr>\n",
       "    <tr>\n",
       "      <th>2</th>\n",
       "      <td>Doctoral degree</td>\n",
       "      <td>2795</td>\n",
       "    </tr>\n",
       "    <tr>\n",
       "      <th>3</th>\n",
       "      <td>Some college/university study without earning ...</td>\n",
       "      <td>1735</td>\n",
       "    </tr>\n",
       "    <tr>\n",
       "      <th>4</th>\n",
       "      <td>I prefer not to answer</td>\n",
       "      <td>627</td>\n",
       "    </tr>\n",
       "    <tr>\n",
       "      <th>5</th>\n",
       "      <td>No formal education past high school</td>\n",
       "      <td>417</td>\n",
       "    </tr>\n",
       "    <tr>\n",
       "      <th>6</th>\n",
       "      <td>Professional doctorate</td>\n",
       "      <td>360</td>\n",
       "    </tr>\n",
       "  </tbody>\n",
       "</table>\n",
       "</div>"
      ],
      "text/plain": [
       "                                               index  Level Of Education\n",
       "0                                    Master’s degree               10132\n",
       "1                                  Bachelor’s degree                9907\n",
       "2                                    Doctoral degree                2795\n",
       "3  Some college/university study without earning ...                1735\n",
       "4                             I prefer not to answer                 627\n",
       "5               No formal education past high school                 417\n",
       "6                             Professional doctorate                 360"
      ]
     },
     "execution_count": 16,
     "metadata": {},
     "output_type": "execute_result"
    }
   ],
   "source": [
    "education = df1['Level Of Education'].value_counts().reset_index()\n",
    "education"
   ]
  },
  {
   "cell_type": "code",
   "execution_count": 17,
   "id": "2d26f370",
   "metadata": {},
   "outputs": [
    {
     "data": {
      "image/png": "[encoded data removed]",
      "text/plain": [
       "<Figure size 1296x432 with 1 Axes>"
      ]
     },
     "metadata": {},
     "output_type": "display_data"
    }
   ],
   "source": [
    "colors_list = ['gold', 'yellowgreen', 'lightcoral', 'lightskyblue', 'lightgreen', 'pink', 'blue']\n",
    "explode_list = [0.1, 0.2, 0.2, 0.2, 0.5, 0.5, 0.5] # ratio for each continent with which to offset each wedge.\n",
    "\n",
    "education['Level Of Education'].plot(kind='pie',\n",
    "                            figsize=(18, 6),\n",
    "                            autopct='%1.1f%%', \n",
    "                            startangle=30,    \n",
    "                            shadow=True,       \n",
    "                            labels=None,         # turn off labels on pie chart\n",
    "                            pctdistance=1.12,    # the ratio between the center of each pie slice and the start of the text generated by autopct \n",
    "                            colors=colors_list,  # add custom colors\n",
    "                            explode=explode_list # 'explode' lowest 3 continents\n",
    "                            )\n",
    "\n",
    "# scale the title up by 12% to match pctdistance\n",
    "plt.title('Highest Level Of Formal Education', y=1.12) \n",
    "\n",
    "plt.axis('equal') \n",
    "\n",
    "# add legend\n",
    "plt.legend(labels=education['index'], loc='upper left', fontsize = 8) \n",
    "\n",
    "plt.show()"
   ]
  },
  {
   "cell_type": "code",
   "execution_count": 18,
   "id": "cc062685",
   "metadata": {},
   "outputs": [
    {
     "name": "stdout",
     "output_type": "stream",
     "text": [
      "Requirement already satisfied: wordcloud==1.8.1 in c:\\users\\alina\\anaconda3\\lib\\site-packages (1.8.1)\n",
      "Requirement already satisfied: numpy>=1.6.1 in c:\\users\\alina\\anaconda3\\lib\\site-packages (from wordcloud==1.8.1) (1.20.1)\n",
      "Requirement already satisfied: matplotlib in c:\\users\\alina\\anaconda3\\lib\\site-packages (from wordcloud==1.8.1) (3.3.4)\n",
      "Requirement already satisfied: pillow in c:\\users\\alina\\anaconda3\\lib\\site-packages (from wordcloud==1.8.1) (8.2.0)\n",
      "Requirement already satisfied: python-dateutil>=2.1 in c:\\users\\alina\\anaconda3\\lib\\site-packages (from matplotlib->wordcloud==1.8.1) (2.8.1)\n",
      "Requirement already satisfied: kiwisolver>=1.0.1 in c:\\users\\alina\\anaconda3\\lib\\site-packages (from matplotlib->wordcloud==1.8.1) (1.3.1)\n",
      "Requirement already satisfied: cycler>=0.10 in c:\\users\\alina\\anaconda3\\lib\\site-packages (from matplotlib->wordcloud==1.8.1) (0.10.0)\n",
      "Requirement already satisfied: pyparsing!=2.0.4,!=2.1.2,!=2.1.6,>=2.0.3 in c:\\users\\alina\\anaconda3\\lib\\site-packages (from matplotlib->wordcloud==1.8.1) (2.4.7)\n",
      "Requirement already satisfied: six in c:\\users\\alina\\anaconda3\\lib\\site-packages (from cycler>=0.10->matplotlib->wordcloud==1.8.1) (1.15.0)\n"
     ]
    }
   ],
   "source": [
    "#Current Roles\n",
    "# install wordcloud\n",
    "!pip3 install wordcloud==1.8.1\n",
    "\n",
    "# import package and its set of stopwords\n",
    "from wordcloud import WordCloud, STOPWORDS"
   ]
  },
  {
   "cell_type": "code",
   "execution_count": 19,
   "id": "b052614e",
   "metadata": {},
   "outputs": [],
   "source": [
    "stopwords = set(STOPWORDS)"
   ]
  },
  {
   "cell_type": "code",
   "execution_count": 20,
   "id": "3c4014b0",
   "metadata": {},
   "outputs": [
    {
     "data": {
      "image/png": "[encoded data removed]",
      "text/plain": [
       "<Figure size 1008x1296 with 1 Axes>"
      ]
     },
     "metadata": {},
     "output_type": "display_data"
    }
   ],
   "source": [
    "text = df1['Current Role']\n",
    "text = list(text)\n",
    "\n",
    "\n",
    "def listToString(s):\n",
    "    str1 = \" \"\n",
    "    return (str1.join(s))\n",
    "text = listToString(text)\n",
    "\n",
    "word_cloud = WordCloud(\n",
    "    background_color='white',\n",
    "    max_words=30000,\n",
    "    max_font_size=100,\n",
    "    stopwords= None,\n",
    "    width = 700,\n",
    "    height =500\n",
    ")\n",
    "\n",
    "wordcloud = word_cloud.generate(text)\n",
    "fig = plt.figure(figsize=(14, 18))\n",
    "plt.imshow(wordcloud, interpolation='bilinear')\n",
    "plt.axis(\"off\")\n",
    "plt.show()"
   ]
  },
  {
   "cell_type": "code",
   "execution_count": 21,
   "id": "a25951d1",
   "metadata": {},
   "outputs": [
    {
     "data": {
      "text/html": [
       "<div>\n",
       "<style scoped>\n",
       "    .dataframe tbody tr th:only-of-type {\n",
       "        vertical-align: middle;\n",
       "    }\n",
       "\n",
       "    .dataframe tbody tr th {\n",
       "        vertical-align: top;\n",
       "    }\n",
       "\n",
       "    .dataframe thead th {\n",
       "        text-align: right;\n",
       "    }\n",
       "</style>\n",
       "<table border=\"1\" class=\"dataframe\">\n",
       "  <thead>\n",
       "    <tr style=\"text-align: right;\">\n",
       "      <th></th>\n",
       "      <th>Programming Experience (Years)</th>\n",
       "      <th>Frequency</th>\n",
       "    </tr>\n",
       "  </thead>\n",
       "  <tbody>\n",
       "    <tr>\n",
       "      <th>0</th>\n",
       "      <td>1-3 years</td>\n",
       "      <td>7874</td>\n",
       "    </tr>\n",
       "    <tr>\n",
       "      <th>1</th>\n",
       "      <td>&lt; 1 years</td>\n",
       "      <td>5881</td>\n",
       "    </tr>\n",
       "    <tr>\n",
       "      <th>2</th>\n",
       "      <td>3-5 years</td>\n",
       "      <td>4061</td>\n",
       "    </tr>\n",
       "    <tr>\n",
       "      <th>3</th>\n",
       "      <td>5-10 years</td>\n",
       "      <td>3099</td>\n",
       "    </tr>\n",
       "    <tr>\n",
       "      <th>4</th>\n",
       "      <td>10-20 years</td>\n",
       "      <td>2166</td>\n",
       "    </tr>\n",
       "    <tr>\n",
       "      <th>5</th>\n",
       "      <td>20+ years</td>\n",
       "      <td>1860</td>\n",
       "    </tr>\n",
       "    <tr>\n",
       "      <th>6</th>\n",
       "      <td>I have never written code</td>\n",
       "      <td>1032</td>\n",
       "    </tr>\n",
       "  </tbody>\n",
       "</table>\n",
       "</div>"
      ],
      "text/plain": [
       "  Programming Experience (Years)  Frequency\n",
       "0                      1-3 years       7874\n",
       "1                      < 1 years       5881\n",
       "2                      3-5 years       4061\n",
       "3                     5-10 years       3099\n",
       "4                    10-20 years       2166\n",
       "5                      20+ years       1860\n",
       "6      I have never written code       1032"
      ]
     },
     "execution_count": 21,
     "metadata": {},
     "output_type": "execute_result"
    }
   ],
   "source": [
    "d3 = df1['Programming Experience (Years)'].value_counts().reset_index()\n",
    "d3 = d3.rename(columns={'index':'Programming Experience (Years)', 'Programming Experience (Years)': 'Frequency'})\n",
    "d3"
   ]
  },
  {
   "cell_type": "code",
   "execution_count": 22,
   "id": "c3e5be95",
   "metadata": {},
   "outputs": [
    {
     "data": {
      "application/vnd.plotly.v1+json": {
       "config": {
        "plotlyServerURL": "https://plot.ly"
       },
       "data": [
        {
         "hovertemplate": "<b>%{hovertext}</b><br><br>Frequency=%{marker.size}<br>Programming Experience (Years)=%{y}<extra></extra>",
         "hovertext": [
          7874,
          5881,
          4061,
          3099,
          2166,
          1860,
          1032
         ],
         "legendgroup": "",
         "marker": {
          "color": "#636efa",
          "size": [
           7874,
           5881,
           4061,
           3099,
           2166,
           1860,
           1032
          ],
          "sizemode": "area",
          "sizeref": 2.187222222222222,
          "symbol": "circle"
         },
         "mode": "markers",
         "name": "",
         "orientation": "h",
         "showlegend": false,
         "type": "scatter",
         "x": [
          7874,
          5881,
          4061,
          3099,
          2166,
          1860,
          1032
         ],
         "xaxis": "x",
         "y": [
          "1-3 years",
          "< 1 years",
          "3-5 years",
          "5-10 years",
          "10-20 years",
          "20+ years",
          "I have never written code"
         ],
         "yaxis": "y"
        }
       ],
       "layout": {
        "legend": {
         "itemsizing": "constant",
         "tracegroupgap": 0
        },
        "template": {
         "data": {
          "bar": [
           {
            "error_x": {
             "color": "#2a3f5f"
            },
            "error_y": {
             "color": "#2a3f5f"
            },
            "marker": {
             "line": {
              "color": "#E5ECF6",
              "width": 0.5
             },
             "pattern": {
              "fillmode": "overlay",
              "size": 10,
              "solidity": 0.2
             }
            },
            "type": "bar"
           }
          ],
          "barpolar": [
           {
            "marker": {
             "line": {
              "color": "#E5ECF6",
              "width": 0.5
             },
             "pattern": {
              "fillmode": "overlay",
              "size": 10,
              "solidity": 0.2
             }
            },
            "type": "barpolar"
           }
          ],
          "carpet": [
           {
            "aaxis": {
             "endlinecolor": "#2a3f5f",
             "gridcolor": "white",
             "linecolor": "white",
             "minorgridcolor": "white",
             "startlinecolor": "#2a3f5f"
            },
            "baxis": {
             "endlinecolor": "#2a3f5f",
             "gridcolor": "white",
             "linecolor": "white",
             "minorgridcolor": "white",
             "startlinecolor": "#2a3f5f"
            },
            "type": "carpet"
           }
          ],
          "choropleth": [
           {
            "colorbar": {
             "outlinewidth": 0,
             "ticks": ""
            },
            "type": "choropleth"
           }
          ],
          "contour": [
           {
            "colorbar": {
             "outlinewidth": 0,
             "ticks": ""
            },
            "colorscale": [
             [
              0,
              "#0d0887"
             ],
             [
              0.1111111111111111,
              "#46039f"
             ],
             [
              0.2222222222222222,
              "#7201a8"
             ],
             [
              0.3333333333333333,
              "#9c179e"
             ],
             [
              0.4444444444444444,
              "#bd3786"
             ],
             [
              0.5555555555555556,
              "#d8576b"
             ],
             [
              0.6666666666666666,
              "#ed7953"
             ],
             [
              0.7777777777777778,
              "#fb9f3a"
             ],
             [
              0.8888888888888888,
              "#fdca26"
             ],
             [
              1,
              "#f0f921"
             ]
            ],
            "type": "contour"
           }
          ],
          "contourcarpet": [
           {
            "colorbar": {
             "outlinewidth": 0,
             "ticks": ""
            },
            "type": "contourcarpet"
           }
          ],
          "heatmap": [
           {
            "colorbar": {
             "outlinewidth": 0,
             "ticks": ""
            },
            "colorscale": [
             [
              0,
              "#0d0887"
             ],
             [
              0.1111111111111111,
              "#46039f"
             ],
             [
              0.2222222222222222,
              "#7201a8"
             ],
             [
              0.3333333333333333,
              "#9c179e"
             ],
             [
              0.4444444444444444,
              "#bd3786"
             ],
             [
              0.5555555555555556,
              "#d8576b"
             ],
             [
              0.6666666666666666,
              "#ed7953"
             ],
             [
              0.7777777777777778,
              "#fb9f3a"
             ],
             [
              0.8888888888888888,
              "#fdca26"
             ],
             [
              1,
              "#f0f921"
             ]
            ],
            "type": "heatmap"
           }
          ],
          "heatmapgl": [
           {
            "colorbar": {
             "outlinewidth": 0,
             "ticks": ""
            },
            "colorscale": [
             [
              0,
              "#0d0887"
             ],
             [
              0.1111111111111111,
              "#46039f"
             ],
             [
              0.2222222222222222,
              "#7201a8"
             ],
             [
              0.3333333333333333,
              "#9c179e"
             ],
             [
              0.4444444444444444,
              "#bd3786"
             ],
             [
              0.5555555555555556,
              "#d8576b"
             ],
             [
              0.6666666666666666,
              "#ed7953"
             ],
             [
              0.7777777777777778,
              "#fb9f3a"
             ],
             [
              0.8888888888888888,
              "#fdca26"
             ],
             [
              1,
              "#f0f921"
             ]
            ],
            "type": "heatmapgl"
           }
          ],
          "histogram": [
           {
            "marker": {
             "pattern": {
              "fillmode": "overlay",
              "size": 10,
              "solidity": 0.2
             }
            },
            "type": "histogram"
           }
          ],
          "histogram2d": [
           {
            "colorbar": {
             "outlinewidth": 0,
             "ticks": ""
            },
            "colorscale": [
             [
              0,
              "#0d0887"
             ],
             [
              0.1111111111111111,
              "#46039f"
             ],
             [
              0.2222222222222222,
              "#7201a8"
             ],
             [
              0.3333333333333333,
              "#9c179e"
             ],
             [
              0.4444444444444444,
              "#bd3786"
             ],
             [
              0.5555555555555556,
              "#d8576b"
             ],
             [
              0.6666666666666666,
              "#ed7953"
             ],
             [
              0.7777777777777778,
              "#fb9f3a"
             ],
             [
              0.8888888888888888,
              "#fdca26"
             ],
             [
              1,
              "#f0f921"
             ]
            ],
            "type": "histogram2d"
           }
          ],
          "histogram2dcontour": [
           {
            "colorbar": {
             "outlinewidth": 0,
             "ticks": ""
            },
            "colorscale": [
             [
              0,
              "#0d0887"
             ],
             [
              0.1111111111111111,
              "#46039f"
             ],
             [
              0.2222222222222222,
              "#7201a8"
             ],
             [
              0.3333333333333333,
              "#9c179e"
             ],
             [
              0.4444444444444444,
              "#bd3786"
             ],
             [
              0.5555555555555556,
              "#d8576b"
             ],
             [
              0.6666666666666666,
              "#ed7953"
             ],
             [
              0.7777777777777778,
              "#fb9f3a"
             ],
             [
              0.8888888888888888,
              "#fdca26"
             ],
             [
              1,
              "#f0f921"
             ]
            ],
            "type": "histogram2dcontour"
           }
          ],
          "mesh3d": [
           {
            "colorbar": {
             "outlinewidth": 0,
             "ticks": ""
            },
            "type": "mesh3d"
           }
          ],
          "parcoords": [
           {
            "line": {
             "colorbar": {
              "outlinewidth": 0,
              "ticks": ""
             }
            },
            "type": "parcoords"
           }
          ],
          "pie": [
           {
            "automargin": true,
            "type": "pie"
           }
          ],
          "scatter": [
           {
            "marker": {
             "colorbar": {
              "outlinewidth": 0,
              "ticks": ""
             }
            },
            "type": "scatter"
           }
          ],
          "scatter3d": [
           {
            "line": {
             "colorbar": {
              "outlinewidth": 0,
              "ticks": ""
             }
            },
            "marker": {
             "colorbar": {
              "outlinewidth": 0,
              "ticks": ""
             }
            },
            "type": "scatter3d"
           }
          ],
          "scattercarpet": [
           {
            "marker": {
             "colorbar": {
              "outlinewidth": 0,
              "ticks": ""
             }
            },
            "type": "scattercarpet"
           }
          ],
          "scattergeo": [
           {
            "marker": {
             "colorbar": {
              "outlinewidth": 0,
              "ticks": ""
             }
            },
            "type": "scattergeo"
           }
          ],
          "scattergl": [
           {
            "marker": {
             "colorbar": {
              "outlinewidth": 0,
              "ticks": ""
             }
            },
            "type": "scattergl"
           }
          ],
          "scattermapbox": [
           {
            "marker": {
             "colorbar": {
              "outlinewidth": 0,
              "ticks": ""
             }
            },
            "type": "scattermapbox"
           }
          ],
          "scatterpolar": [
           {
            "marker": {
             "colorbar": {
              "outlinewidth": 0,
              "ticks": ""
             }
            },
            "type": "scatterpolar"
           }
          ],
          "scatterpolargl": [
           {
            "marker": {
             "colorbar": {
              "outlinewidth": 0,
              "ticks": ""
             }
            },
            "type": "scatterpolargl"
           }
          ],
          "scatterternary": [
           {
            "marker": {
             "colorbar": {
              "outlinewidth": 0,
              "ticks": ""
             }
            },
            "type": "scatterternary"
           }
          ],
          "surface": [
           {
            "colorbar": {
             "outlinewidth": 0,
             "ticks": ""
            },
            "colorscale": [
             [
              0,
              "#0d0887"
             ],
             [
              0.1111111111111111,
              "#46039f"
             ],
             [
              0.2222222222222222,
              "#7201a8"
             ],
             [
              0.3333333333333333,
              "#9c179e"
             ],
             [
              0.4444444444444444,
              "#bd3786"
             ],
             [
              0.5555555555555556,
              "#d8576b"
             ],
             [
              0.6666666666666666,
              "#ed7953"
             ],
             [
              0.7777777777777778,
              "#fb9f3a"
             ],
             [
              0.8888888888888888,
              "#fdca26"
             ],
             [
              1,
              "#f0f921"
             ]
            ],
            "type": "surface"
           }
          ],
          "table": [
           {
            "cells": {
             "fill": {
              "color": "#EBF0F8"
             },
             "line": {
              "color": "white"
             }
            },
            "header": {
             "fill": {
              "color": "#C8D4E3"
             },
             "line": {
              "color": "white"
             }
            },
            "type": "table"
           }
          ]
         },
         "layout": {
          "annotationdefaults": {
           "arrowcolor": "#2a3f5f",
           "arrowhead": 0,
           "arrowwidth": 1
          },
          "autotypenumbers": "strict",
          "coloraxis": {
           "colorbar": {
            "outlinewidth": 0,
            "ticks": ""
           }
          },
          "colorscale": {
           "diverging": [
            [
             0,
             "#8e0152"
            ],
            [
             0.1,
             "#c51b7d"
            ],
            [
             0.2,
             "#de77ae"
            ],
            [
             0.3,
             "#f1b6da"
            ],
            [
             0.4,
             "#fde0ef"
            ],
            [
             0.5,
             "#f7f7f7"
            ],
            [
             0.6,
             "#e6f5d0"
            ],
            [
             0.7,
             "#b8e186"
            ],
            [
             0.8,
             "#7fbc41"
            ],
            [
             0.9,
             "#4d9221"
            ],
            [
             1,
             "#276419"
            ]
           ],
           "sequential": [
            [
             0,
             "#0d0887"
            ],
            [
             0.1111111111111111,
             "#46039f"
            ],
            [
             0.2222222222222222,
             "#7201a8"
            ],
            [
             0.3333333333333333,
             "#9c179e"
            ],
            [
             0.4444444444444444,
             "#bd3786"
            ],
            [
             0.5555555555555556,
             "#d8576b"
            ],
            [
             0.6666666666666666,
             "#ed7953"
            ],
            [
             0.7777777777777778,
             "#fb9f3a"
            ],
            [
             0.8888888888888888,
             "#fdca26"
            ],
            [
             1,
             "#f0f921"
            ]
           ],
           "sequentialminus": [
            [
             0,
             "#0d0887"
            ],
            [
             0.1111111111111111,
             "#46039f"
            ],
            [
             0.2222222222222222,
             "#7201a8"
            ],
            [
             0.3333333333333333,
             "#9c179e"
            ],
            [
             0.4444444444444444,
             "#bd3786"
            ],
            [
             0.5555555555555556,
             "#d8576b"
            ],
            [
             0.6666666666666666,
             "#ed7953"
            ],
            [
             0.7777777777777778,
             "#fb9f3a"
            ],
            [
             0.8888888888888888,
             "#fdca26"
            ],
            [
             1,
             "#f0f921"
            ]
           ]
          },
          "colorway": [
           "#636efa",
           "#EF553B",
           "#00cc96",
           "#ab63fa",
           "#FFA15A",
           "#19d3f3",
           "#FF6692",
           "#B6E880",
           "#FF97FF",
           "#FECB52"
          ],
          "font": {
           "color": "#2a3f5f"
          },
          "geo": {
           "bgcolor": "white",
           "lakecolor": "white",
           "landcolor": "#E5ECF6",
           "showlakes": true,
           "showland": true,
           "subunitcolor": "white"
          },
          "hoverlabel": {
           "align": "left"
          },
          "hovermode": "closest",
          "mapbox": {
           "style": "light"
          },
          "paper_bgcolor": "white",
          "plot_bgcolor": "#E5ECF6",
          "polar": {
           "angularaxis": {
            "gridcolor": "white",
            "linecolor": "white",
            "ticks": ""
           },
           "bgcolor": "#E5ECF6",
           "radialaxis": {
            "gridcolor": "white",
            "linecolor": "white",
            "ticks": ""
           }
          },
          "scene": {
           "xaxis": {
            "backgroundcolor": "#E5ECF6",
            "gridcolor": "white",
            "gridwidth": 2,
            "linecolor": "white",
            "showbackground": true,
            "ticks": "",
            "zerolinecolor": "white"
           },
           "yaxis": {
            "backgroundcolor": "#E5ECF6",
            "gridcolor": "white",
            "gridwidth": 2,
            "linecolor": "white",
            "showbackground": true,
            "ticks": "",
            "zerolinecolor": "white"
           },
           "zaxis": {
            "backgroundcolor": "#E5ECF6",
            "gridcolor": "white",
            "gridwidth": 2,
            "linecolor": "white",
            "showbackground": true,
            "ticks": "",
            "zerolinecolor": "white"
           }
          },
          "shapedefaults": {
           "line": {
            "color": "#2a3f5f"
           }
          },
          "ternary": {
           "aaxis": {
            "gridcolor": "white",
            "linecolor": "white",
            "ticks": ""
           },
           "baxis": {
            "gridcolor": "white",
            "linecolor": "white",
            "ticks": ""
           },
           "bgcolor": "#E5ECF6",
           "caxis": {
            "gridcolor": "white",
            "linecolor": "white",
            "ticks": ""
           }
          },
          "title": {
           "x": 0.05
          },
          "xaxis": {
           "automargin": true,
           "gridcolor": "white",
           "linecolor": "white",
           "ticks": "",
           "title": {
            "standoff": 15
           },
           "zerolinecolor": "white",
           "zerolinewidth": 2
          },
          "yaxis": {
           "automargin": true,
           "gridcolor": "white",
           "linecolor": "white",
           "ticks": "",
           "title": {
            "standoff": 15
           },
           "zerolinecolor": "white",
           "zerolinewidth": 2
          }
         }
        },
        "title": {
         "text": "Coding Experience"
        },
        "xaxis": {
         "anchor": "y",
         "domain": [
          0,
          1
         ],
         "title": {
          "text": "Frequency"
         }
        },
        "yaxis": {
         "anchor": "x",
         "domain": [
          0,
          1
         ],
         "title": {
          "text": "Programming Experience (Years)"
         }
        }
       }
      },
      "text/html": [
       "<div>                            <div id=\"1a9a3273-3cb3-4372-a417-3efdd15028b0\" class=\"plotly-graph-div\" style=\"height:525px; width:100%;\"></div>            <script type=\"text/javascript\">                require([\"plotly\"], function(Plotly) {                    window.PLOTLYENV=window.PLOTLYENV || {};                                    if (document.getElementById(\"1a9a3273-3cb3-4372-a417-3efdd15028b0\")) {                    Plotly.newPlot(                        \"1a9a3273-3cb3-4372-a417-3efdd15028b0\",                        [{\"hovertemplate\":\"<b>%{hovertext}</b><br><br>Frequency=%{marker.size}<br>Programming Experience (Years)=%{y}<extra></extra>\",\"hovertext\":[7874.0,5881.0,4061.0,3099.0,2166.0,1860.0,1032.0],\"legendgroup\":\"\",\"marker\":{\"color\":\"#636efa\",\"size\":[7874,5881,4061,3099,2166,1860,1032],\"sizemode\":\"area\",\"sizeref\":2.187222222222222,\"symbol\":\"circle\"},\"mode\":\"markers\",\"name\":\"\",\"orientation\":\"h\",\"showlegend\":false,\"x\":[7874,5881,4061,3099,2166,1860,1032],\"xaxis\":\"x\",\"y\":[\"1-3 years\",\"< 1 years\",\"3-5 years\",\"5-10 years\",\"10-20 years\",\"20+ years\",\"I have never written code\"],\"yaxis\":\"y\",\"type\":\"scatter\"}],                        {\"template\":{\"data\":{\"bar\":[{\"error_x\":{\"color\":\"#2a3f5f\"},\"error_y\":{\"color\":\"#2a3f5f\"},\"marker\":{\"line\":{\"color\":\"#E5ECF6\",\"width\":0.5},\"pattern\":{\"fillmode\":\"overlay\",\"size\":10,\"solidity\":0.2}},\"type\":\"bar\"}],\"barpolar\":[{\"marker\":{\"line\":{\"color\":\"#E5ECF6\",\"width\":0.5},\"pattern\":{\"fillmode\":\"overlay\",\"size\":10,\"solidity\":0.2}},\"type\":\"barpolar\"}],\"carpet\":[{\"aaxis\":{\"endlinecolor\":\"#2a3f5f\",\"gridcolor\":\"white\",\"linecolor\":\"white\",\"minorgridcolor\":\"white\",\"startlinecolor\":\"#2a3f5f\"},\"baxis\":{\"endlinecolor\":\"#2a3f5f\",\"gridcolor\":\"white\",\"linecolor\":\"white\",\"minorgridcolor\":\"white\",\"startlinecolor\":\"#2a3f5f\"},\"type\":\"carpet\"}],\"choropleth\":[{\"colorbar\":{\"outlinewidth\":0,\"ticks\":\"\"},\"type\":\"choropleth\"}],\"contour\":[{\"colorbar\":{\"outlinewidth\":0,\"ticks\":\"\"},\"colorscale\":[[0.0,\"#0d0887\"],[0.1111111111111111,\"#46039f\"],[0.2222222222222222,\"#7201a8\"],[0.3333333333333333,\"#9c179e\"],[0.4444444444444444,\"#bd3786\"],[0.5555555555555556,\"#d8576b\"],[0.6666666666666666,\"#ed7953\"],[0.7777777777777778,\"#fb9f3a\"],[0.8888888888888888,\"#fdca26\"],[1.0,\"#f0f921\"]],\"type\":\"contour\"}],\"contourcarpet\":[{\"colorbar\":{\"outlinewidth\":0,\"ticks\":\"\"},\"type\":\"contourcarpet\"}],\"heatmap\":[{\"colorbar\":{\"outlinewidth\":0,\"ticks\":\"\"},\"colorscale\":[[0.0,\"#0d0887\"],[0.1111111111111111,\"#46039f\"],[0.2222222222222222,\"#7201a8\"],[0.3333333333333333,\"#9c179e\"],[0.4444444444444444,\"#bd3786\"],[0.5555555555555556,\"#d8576b\"],[0.6666666666666666,\"#ed7953\"],[0.7777777777777778,\"#fb9f3a\"],[0.8888888888888888,\"#fdca26\"],[1.0,\"#f0f921\"]],\"type\":\"heatmap\"}],\"heatmapgl\":[{\"colorbar\":{\"outlinewidth\":0,\"ticks\":\"\"},\"colorscale\":[[0.0,\"#0d0887\"],[0.1111111111111111,\"#46039f\"],[0.2222222222222222,\"#7201a8\"],[0.3333333333333333,\"#9c179e\"],[0.4444444444444444,\"#bd3786\"],[0.5555555555555556,\"#d8576b\"],[0.6666666666666666,\"#ed7953\"],[0.7777777777777778,\"#fb9f3a\"],[0.8888888888888888,\"#fdca26\"],[1.0,\"#f0f921\"]],\"type\":\"heatmapgl\"}],\"histogram\":[{\"marker\":{\"pattern\":{\"fillmode\":\"overlay\",\"size\":10,\"solidity\":0.2}},\"type\":\"histogram\"}],\"histogram2d\":[{\"colorbar\":{\"outlinewidth\":0,\"ticks\":\"\"},\"colorscale\":[[0.0,\"#0d0887\"],[0.1111111111111111,\"#46039f\"],[0.2222222222222222,\"#7201a8\"],[0.3333333333333333,\"#9c179e\"],[0.4444444444444444,\"#bd3786\"],[0.5555555555555556,\"#d8576b\"],[0.6666666666666666,\"#ed7953\"],[0.7777777777777778,\"#fb9f3a\"],[0.8888888888888888,\"#fdca26\"],[1.0,\"#f0f921\"]],\"type\":\"histogram2d\"}],\"histogram2dcontour\":[{\"colorbar\":{\"outlinewidth\":0,\"ticks\":\"\"},\"colorscale\":[[0.0,\"#0d0887\"],[0.1111111111111111,\"#46039f\"],[0.2222222222222222,\"#7201a8\"],[0.3333333333333333,\"#9c179e\"],[0.4444444444444444,\"#bd3786\"],[0.5555555555555556,\"#d8576b\"],[0.6666666666666666,\"#ed7953\"],[0.7777777777777778,\"#fb9f3a\"],[0.8888888888888888,\"#fdca26\"],[1.0,\"#f0f921\"]],\"type\":\"histogram2dcontour\"}],\"mesh3d\":[{\"colorbar\":{\"outlinewidth\":0,\"ticks\":\"\"},\"type\":\"mesh3d\"}],\"parcoords\":[{\"line\":{\"colorbar\":{\"outlinewidth\":0,\"ticks\":\"\"}},\"type\":\"parcoords\"}],\"pie\":[{\"automargin\":true,\"type\":\"pie\"}],\"scatter\":[{\"marker\":{\"colorbar\":{\"outlinewidth\":0,\"ticks\":\"\"}},\"type\":\"scatter\"}],\"scatter3d\":[{\"line\":{\"colorbar\":{\"outlinewidth\":0,\"ticks\":\"\"}},\"marker\":{\"colorbar\":{\"outlinewidth\":0,\"ticks\":\"\"}},\"type\":\"scatter3d\"}],\"scattercarpet\":[{\"marker\":{\"colorbar\":{\"outlinewidth\":0,\"ticks\":\"\"}},\"type\":\"scattercarpet\"}],\"scattergeo\":[{\"marker\":{\"colorbar\":{\"outlinewidth\":0,\"ticks\":\"\"}},\"type\":\"scattergeo\"}],\"scattergl\":[{\"marker\":{\"colorbar\":{\"outlinewidth\":0,\"ticks\":\"\"}},\"type\":\"scattergl\"}],\"scattermapbox\":[{\"marker\":{\"colorbar\":{\"outlinewidth\":0,\"ticks\":\"\"}},\"type\":\"scattermapbox\"}],\"scatterpolar\":[{\"marker\":{\"colorbar\":{\"outlinewidth\":0,\"ticks\":\"\"}},\"type\":\"scatterpolar\"}],\"scatterpolargl\":[{\"marker\":{\"colorbar\":{\"outlinewidth\":0,\"ticks\":\"\"}},\"type\":\"scatterpolargl\"}],\"scatterternary\":[{\"marker\":{\"colorbar\":{\"outlinewidth\":0,\"ticks\":\"\"}},\"type\":\"scatterternary\"}],\"surface\":[{\"colorbar\":{\"outlinewidth\":0,\"ticks\":\"\"},\"colorscale\":[[0.0,\"#0d0887\"],[0.1111111111111111,\"#46039f\"],[0.2222222222222222,\"#7201a8\"],[0.3333333333333333,\"#9c179e\"],[0.4444444444444444,\"#bd3786\"],[0.5555555555555556,\"#d8576b\"],[0.6666666666666666,\"#ed7953\"],[0.7777777777777778,\"#fb9f3a\"],[0.8888888888888888,\"#fdca26\"],[1.0,\"#f0f921\"]],\"type\":\"surface\"}],\"table\":[{\"cells\":{\"fill\":{\"color\":\"#EBF0F8\"},\"line\":{\"color\":\"white\"}},\"header\":{\"fill\":{\"color\":\"#C8D4E3\"},\"line\":{\"color\":\"white\"}},\"type\":\"table\"}]},\"layout\":{\"annotationdefaults\":{\"arrowcolor\":\"#2a3f5f\",\"arrowhead\":0,\"arrowwidth\":1},\"autotypenumbers\":\"strict\",\"coloraxis\":{\"colorbar\":{\"outlinewidth\":0,\"ticks\":\"\"}},\"colorscale\":{\"diverging\":[[0,\"#8e0152\"],[0.1,\"#c51b7d\"],[0.2,\"#de77ae\"],[0.3,\"#f1b6da\"],[0.4,\"#fde0ef\"],[0.5,\"#f7f7f7\"],[0.6,\"#e6f5d0\"],[0.7,\"#b8e186\"],[0.8,\"#7fbc41\"],[0.9,\"#4d9221\"],[1,\"#276419\"]],\"sequential\":[[0.0,\"#0d0887\"],[0.1111111111111111,\"#46039f\"],[0.2222222222222222,\"#7201a8\"],[0.3333333333333333,\"#9c179e\"],[0.4444444444444444,\"#bd3786\"],[0.5555555555555556,\"#d8576b\"],[0.6666666666666666,\"#ed7953\"],[0.7777777777777778,\"#fb9f3a\"],[0.8888888888888888,\"#fdca26\"],[1.0,\"#f0f921\"]],\"sequentialminus\":[[0.0,\"#0d0887\"],[0.1111111111111111,\"#46039f\"],[0.2222222222222222,\"#7201a8\"],[0.3333333333333333,\"#9c179e\"],[0.4444444444444444,\"#bd3786\"],[0.5555555555555556,\"#d8576b\"],[0.6666666666666666,\"#ed7953\"],[0.7777777777777778,\"#fb9f3a\"],[0.8888888888888888,\"#fdca26\"],[1.0,\"#f0f921\"]]},\"colorway\":[\"#636efa\",\"#EF553B\",\"#00cc96\",\"#ab63fa\",\"#FFA15A\",\"#19d3f3\",\"#FF6692\",\"#B6E880\",\"#FF97FF\",\"#FECB52\"],\"font\":{\"color\":\"#2a3f5f\"},\"geo\":{\"bgcolor\":\"white\",\"lakecolor\":\"white\",\"landcolor\":\"#E5ECF6\",\"showlakes\":true,\"showland\":true,\"subunitcolor\":\"white\"},\"hoverlabel\":{\"align\":\"left\"},\"hovermode\":\"closest\",\"mapbox\":{\"style\":\"light\"},\"paper_bgcolor\":\"white\",\"plot_bgcolor\":\"#E5ECF6\",\"polar\":{\"angularaxis\":{\"gridcolor\":\"white\",\"linecolor\":\"white\",\"ticks\":\"\"},\"bgcolor\":\"#E5ECF6\",\"radialaxis\":{\"gridcolor\":\"white\",\"linecolor\":\"white\",\"ticks\":\"\"}},\"scene\":{\"xaxis\":{\"backgroundcolor\":\"#E5ECF6\",\"gridcolor\":\"white\",\"gridwidth\":2,\"linecolor\":\"white\",\"showbackground\":true,\"ticks\":\"\",\"zerolinecolor\":\"white\"},\"yaxis\":{\"backgroundcolor\":\"#E5ECF6\",\"gridcolor\":\"white\",\"gridwidth\":2,\"linecolor\":\"white\",\"showbackground\":true,\"ticks\":\"\",\"zerolinecolor\":\"white\"},\"zaxis\":{\"backgroundcolor\":\"#E5ECF6\",\"gridcolor\":\"white\",\"gridwidth\":2,\"linecolor\":\"white\",\"showbackground\":true,\"ticks\":\"\",\"zerolinecolor\":\"white\"}},\"shapedefaults\":{\"line\":{\"color\":\"#2a3f5f\"}},\"ternary\":{\"aaxis\":{\"gridcolor\":\"white\",\"linecolor\":\"white\",\"ticks\":\"\"},\"baxis\":{\"gridcolor\":\"white\",\"linecolor\":\"white\",\"ticks\":\"\"},\"bgcolor\":\"#E5ECF6\",\"caxis\":{\"gridcolor\":\"white\",\"linecolor\":\"white\",\"ticks\":\"\"}},\"title\":{\"x\":0.05},\"xaxis\":{\"automargin\":true,\"gridcolor\":\"white\",\"linecolor\":\"white\",\"ticks\":\"\",\"title\":{\"standoff\":15},\"zerolinecolor\":\"white\",\"zerolinewidth\":2},\"yaxis\":{\"automargin\":true,\"gridcolor\":\"white\",\"linecolor\":\"white\",\"ticks\":\"\",\"title\":{\"standoff\":15},\"zerolinecolor\":\"white\",\"zerolinewidth\":2}}},\"xaxis\":{\"anchor\":\"y\",\"domain\":[0.0,1.0],\"title\":{\"text\":\"Frequency\"}},\"yaxis\":{\"anchor\":\"x\",\"domain\":[0.0,1.0],\"title\":{\"text\":\"Programming Experience (Years)\"}},\"legend\":{\"tracegroupgap\":0,\"itemsizing\":\"constant\"},\"title\":{\"text\":\"Coding Experience\"}},                        {\"responsive\": true}                    ).then(function(){\n",
       "                            \n",
       "var gd = document.getElementById('1a9a3273-3cb3-4372-a417-3efdd15028b0');\n",
       "var x = new MutationObserver(function (mutations, observer) {{\n",
       "        var display = window.getComputedStyle(gd).display;\n",
       "        if (!display || display === 'none') {{\n",
       "            console.log([gd, 'removed!']);\n",
       "            Plotly.purge(gd);\n",
       "            observer.disconnect();\n",
       "        }}\n",
       "}});\n",
       "\n",
       "// Listen for the removal of the full notebook cells\n",
       "var notebookContainer = gd.closest('#notebook-container');\n",
       "if (notebookContainer) {{\n",
       "    x.observe(notebookContainer, {childList: true});\n",
       "}}\n",
       "\n",
       "// Listen for the clearing of the current output cell\n",
       "var outputEl = gd.closest('.output');\n",
       "if (outputEl) {{\n",
       "    x.observe(outputEl, {childList: true});\n",
       "}}\n",
       "\n",
       "                        })                };                });            </script>        </div>"
      ]
     },
     "metadata": {},
     "output_type": "display_data"
    }
   ],
   "source": [
    "fig = px.scatter(d3, x=\"Frequency\", y=\"Programming Experience (Years)\", size=\"Frequency\",\n",
    "                 hover_name=\"Frequency\", title='Coding Experience', size_max=60)\n",
    "fig.show()"
   ]
  },
  {
   "cell_type": "code",
   "execution_count": 62,
   "id": "af4dbd4c",
   "metadata": {},
   "outputs": [
    {
     "data": {
      "text/html": [
       "<div>\n",
       "<style scoped>\n",
       "    .dataframe tbody tr th:only-of-type {\n",
       "        vertical-align: middle;\n",
       "    }\n",
       "\n",
       "    .dataframe tbody tr th {\n",
       "        vertical-align: top;\n",
       "    }\n",
       "\n",
       "    .dataframe thead th {\n",
       "        text-align: right;\n",
       "    }\n",
       "</style>\n",
       "<table border=\"1\" class=\"dataframe\">\n",
       "  <thead>\n",
       "    <tr style=\"text-align: right;\">\n",
       "      <th></th>\n",
       "      <th>Python</th>\n",
       "      <th>R</th>\n",
       "      <th>SQL</th>\n",
       "      <th>C</th>\n",
       "      <th>C++</th>\n",
       "      <th>Java</th>\n",
       "      <th>Javascript</th>\n",
       "      <th>Julia</th>\n",
       "      <th>Swift</th>\n",
       "      <th>Bash</th>\n",
       "      <th>MATLAB</th>\n",
       "      <th>None</th>\n",
       "      <th>Other</th>\n",
       "    </tr>\n",
       "  </thead>\n",
       "  <tbody>\n",
       "    <tr>\n",
       "      <th>1</th>\n",
       "      <td>Python</td>\n",
       "      <td>R</td>\n",
       "      <td>NaN</td>\n",
       "      <td>NaN</td>\n",
       "      <td>NaN</td>\n",
       "      <td>NaN</td>\n",
       "      <td>NaN</td>\n",
       "      <td>NaN</td>\n",
       "      <td>NaN</td>\n",
       "      <td>NaN</td>\n",
       "      <td>NaN</td>\n",
       "      <td>NaN</td>\n",
       "      <td>NaN</td>\n",
       "    </tr>\n",
       "    <tr>\n",
       "      <th>2</th>\n",
       "      <td>NaN</td>\n",
       "      <td>NaN</td>\n",
       "      <td>SQL</td>\n",
       "      <td>C</td>\n",
       "      <td>C++</td>\n",
       "      <td>Java</td>\n",
       "      <td>NaN</td>\n",
       "      <td>NaN</td>\n",
       "      <td>NaN</td>\n",
       "      <td>NaN</td>\n",
       "      <td>NaN</td>\n",
       "      <td>NaN</td>\n",
       "      <td>NaN</td>\n",
       "    </tr>\n",
       "    <tr>\n",
       "      <th>3</th>\n",
       "      <td>Python</td>\n",
       "      <td>NaN</td>\n",
       "      <td>NaN</td>\n",
       "      <td>NaN</td>\n",
       "      <td>C++</td>\n",
       "      <td>Java</td>\n",
       "      <td>NaN</td>\n",
       "      <td>NaN</td>\n",
       "      <td>NaN</td>\n",
       "      <td>NaN</td>\n",
       "      <td>NaN</td>\n",
       "      <td>NaN</td>\n",
       "      <td>NaN</td>\n",
       "    </tr>\n",
       "    <tr>\n",
       "      <th>4</th>\n",
       "      <td>Python</td>\n",
       "      <td>NaN</td>\n",
       "      <td>NaN</td>\n",
       "      <td>NaN</td>\n",
       "      <td>NaN</td>\n",
       "      <td>NaN</td>\n",
       "      <td>NaN</td>\n",
       "      <td>NaN</td>\n",
       "      <td>NaN</td>\n",
       "      <td>NaN</td>\n",
       "      <td>NaN</td>\n",
       "      <td>NaN</td>\n",
       "      <td>NaN</td>\n",
       "    </tr>\n",
       "    <tr>\n",
       "      <th>5</th>\n",
       "      <td>Python</td>\n",
       "      <td>NaN</td>\n",
       "      <td>NaN</td>\n",
       "      <td>C</td>\n",
       "      <td>NaN</td>\n",
       "      <td>NaN</td>\n",
       "      <td>NaN</td>\n",
       "      <td>NaN</td>\n",
       "      <td>NaN</td>\n",
       "      <td>NaN</td>\n",
       "      <td>MATLAB</td>\n",
       "      <td>NaN</td>\n",
       "      <td>NaN</td>\n",
       "    </tr>\n",
       "    <tr>\n",
       "      <th>...</th>\n",
       "      <td>...</td>\n",
       "      <td>...</td>\n",
       "      <td>...</td>\n",
       "      <td>...</td>\n",
       "      <td>...</td>\n",
       "      <td>...</td>\n",
       "      <td>...</td>\n",
       "      <td>...</td>\n",
       "      <td>...</td>\n",
       "      <td>...</td>\n",
       "      <td>...</td>\n",
       "      <td>...</td>\n",
       "      <td>...</td>\n",
       "    </tr>\n",
       "    <tr>\n",
       "      <th>25969</th>\n",
       "      <td>Python</td>\n",
       "      <td>NaN</td>\n",
       "      <td>SQL</td>\n",
       "      <td>NaN</td>\n",
       "      <td>NaN</td>\n",
       "      <td>NaN</td>\n",
       "      <td>Javascript</td>\n",
       "      <td>NaN</td>\n",
       "      <td>NaN</td>\n",
       "      <td>Bash</td>\n",
       "      <td>NaN</td>\n",
       "      <td>NaN</td>\n",
       "      <td>NaN</td>\n",
       "    </tr>\n",
       "    <tr>\n",
       "      <th>25970</th>\n",
       "      <td>Python</td>\n",
       "      <td>NaN</td>\n",
       "      <td>NaN</td>\n",
       "      <td>NaN</td>\n",
       "      <td>NaN</td>\n",
       "      <td>NaN</td>\n",
       "      <td>NaN</td>\n",
       "      <td>NaN</td>\n",
       "      <td>NaN</td>\n",
       "      <td>NaN</td>\n",
       "      <td>NaN</td>\n",
       "      <td>NaN</td>\n",
       "      <td>NaN</td>\n",
       "    </tr>\n",
       "    <tr>\n",
       "      <th>25971</th>\n",
       "      <td>NaN</td>\n",
       "      <td>NaN</td>\n",
       "      <td>NaN</td>\n",
       "      <td>NaN</td>\n",
       "      <td>NaN</td>\n",
       "      <td>NaN</td>\n",
       "      <td>NaN</td>\n",
       "      <td>NaN</td>\n",
       "      <td>NaN</td>\n",
       "      <td>NaN</td>\n",
       "      <td>NaN</td>\n",
       "      <td>NaN</td>\n",
       "      <td>NaN</td>\n",
       "    </tr>\n",
       "    <tr>\n",
       "      <th>25972</th>\n",
       "      <td>Python</td>\n",
       "      <td>NaN</td>\n",
       "      <td>SQL</td>\n",
       "      <td>NaN</td>\n",
       "      <td>NaN</td>\n",
       "      <td>NaN</td>\n",
       "      <td>NaN</td>\n",
       "      <td>NaN</td>\n",
       "      <td>NaN</td>\n",
       "      <td>NaN</td>\n",
       "      <td>NaN</td>\n",
       "      <td>NaN</td>\n",
       "      <td>NaN</td>\n",
       "    </tr>\n",
       "    <tr>\n",
       "      <th>25973</th>\n",
       "      <td>NaN</td>\n",
       "      <td>NaN</td>\n",
       "      <td>NaN</td>\n",
       "      <td>NaN</td>\n",
       "      <td>NaN</td>\n",
       "      <td>NaN</td>\n",
       "      <td>NaN</td>\n",
       "      <td>NaN</td>\n",
       "      <td>NaN</td>\n",
       "      <td>NaN</td>\n",
       "      <td>NaN</td>\n",
       "      <td>NaN</td>\n",
       "      <td>NaN</td>\n",
       "    </tr>\n",
       "  </tbody>\n",
       "</table>\n",
       "<p>25973 rows × 13 columns</p>\n",
       "</div>"
      ],
      "text/plain": [
       "       Python    R  SQL    C  C++  Java  Javascript Julia Swift  Bash  MATLAB  \\\n",
       "1      Python    R  NaN  NaN  NaN   NaN         NaN   NaN   NaN   NaN     NaN   \n",
       "2         NaN  NaN  SQL    C  C++  Java         NaN   NaN   NaN   NaN     NaN   \n",
       "3      Python  NaN  NaN  NaN  C++  Java         NaN   NaN   NaN   NaN     NaN   \n",
       "4      Python  NaN  NaN  NaN  NaN   NaN         NaN   NaN   NaN   NaN     NaN   \n",
       "5      Python  NaN  NaN    C  NaN   NaN         NaN   NaN   NaN   NaN  MATLAB   \n",
       "...       ...  ...  ...  ...  ...   ...         ...   ...   ...   ...     ...   \n",
       "25969  Python  NaN  SQL  NaN  NaN   NaN  Javascript   NaN   NaN  Bash     NaN   \n",
       "25970  Python  NaN  NaN  NaN  NaN   NaN         NaN   NaN   NaN   NaN     NaN   \n",
       "25971     NaN  NaN  NaN  NaN  NaN   NaN         NaN   NaN   NaN   NaN     NaN   \n",
       "25972  Python  NaN  SQL  NaN  NaN   NaN         NaN   NaN   NaN   NaN     NaN   \n",
       "25973     NaN  NaN  NaN  NaN  NaN   NaN         NaN   NaN   NaN   NaN     NaN   \n",
       "\n",
       "      None Other  \n",
       "1      NaN   NaN  \n",
       "2      NaN   NaN  \n",
       "3      NaN   NaN  \n",
       "4      NaN   NaN  \n",
       "5      NaN   NaN  \n",
       "...    ...   ...  \n",
       "25969  NaN   NaN  \n",
       "25970  NaN   NaN  \n",
       "25971  NaN   NaN  \n",
       "25972  NaN   NaN  \n",
       "25973  NaN   NaN  \n",
       "\n",
       "[25973 rows x 13 columns]"
      ]
     },
     "execution_count": 62,
     "metadata": {},
     "output_type": "execute_result"
    }
   ],
   "source": [
    "# columns 8 to 20 is related to Used programming languages\n",
    "df2 = df.iloc[: , 7:20]\n",
    "col_names = df2.columns.tolist()\n",
    "\n",
    "new_names = ['Python', 'R', 'SQL', \n",
    "             'C', 'C++', 'Java',\n",
    "            'Javascript', 'Julia', 'Swift', \n",
    "             'Bash', 'MATLAB', 'None', 'Other']\n",
    "\n",
    "df2.columns = new_names\n",
    "df2"
   ]
  },
  {
   "cell_type": "code",
   "execution_count": 103,
   "id": "d7bcf36c",
   "metadata": {},
   "outputs": [
    {
     "data": {
      "text/plain": [
       "['What programming languages do you use on a regular basis? (Select all that apply) - Selected Choice - Python',\n",
       " 'What programming languages do you use on a regular basis? (Select all that apply) - Selected Choice - R',\n",
       " 'What programming languages do you use on a regular basis? (Select all that apply) - Selected Choice - SQL',\n",
       " 'What programming languages do you use on a regular basis? (Select all that apply) - Selected Choice - C',\n",
       " 'What programming languages do you use on a regular basis? (Select all that apply) - Selected Choice - C++',\n",
       " 'What programming languages do you use on a regular basis? (Select all that apply) - Selected Choice - Java',\n",
       " 'What programming languages do you use on a regular basis? (Select all that apply) - Selected Choice - Javascript',\n",
       " 'What programming languages do you use on a regular basis? (Select all that apply) - Selected Choice - Julia',\n",
       " 'What programming languages do you use on a regular basis? (Select all that apply) - Selected Choice - Swift',\n",
       " 'What programming languages do you use on a regular basis? (Select all that apply) - Selected Choice - Bash',\n",
       " 'What programming languages do you use on a regular basis? (Select all that apply) - Selected Choice - MATLAB',\n",
       " 'What programming languages do you use on a regular basis? (Select all that apply) - Selected Choice - None',\n",
       " 'What programming languages do you use on a regular basis? (Select all that apply) - Selected Choice - Other']"
      ]
     },
     "execution_count": 103,
     "metadata": {},
     "output_type": "execute_result"
    }
   ],
   "source": [
    "col_names"
   ]
  },
  {
   "cell_type": "code",
   "execution_count": 102,
   "id": "f823b821",
   "metadata": {},
   "outputs": [
    {
     "name": "stdout",
     "output_type": "stream",
     "text": [
      "Python    21860\n",
      "Name: Python, dtype: int64\n",
      "R    5334\n",
      "Name: R, dtype: int64\n",
      "SQL    10756\n",
      "Name: SQL, dtype: int64\n",
      "C    4709\n",
      "Name: C, dtype: int64\n",
      "C++    5535\n",
      "Name: C++, dtype: int64\n",
      "Java    4769\n",
      "Name: Java, dtype: int64\n",
      "Javascript    4332\n",
      "Name: Javascript, dtype: int64\n",
      "Julia    305\n",
      "Name: Julia, dtype: int64\n",
      "Swift    242\n",
      "Name: Swift, dtype: int64\n",
      "Bash    2216\n",
      "Name: Bash, dtype: int64\n",
      "MATLAB    2935\n",
      "Name: MATLAB, dtype: int64\n",
      "None    319\n",
      "Name: None, dtype: int64\n",
      "Other    2575\n",
      "Name: Other, dtype: int64\n"
     ]
    }
   ],
   "source": [
    "df2_col_name = df2.columns.tolist()\n",
    "\n",
    "for i in range(len(df2_col_name)):\n",
    "    print(df2[df2_col_name[i]].value_counts())\n"
   ]
  },
  {
   "cell_type": "code",
   "execution_count": null,
   "id": "83c6b7f6",
   "metadata": {},
   "outputs": [],
   "source": []
  },
  {
   "cell_type": "code",
   "execution_count": null,
   "id": "779a91fb",
   "metadata": {},
   "outputs": [],
   "source": []
  },
  {
   "cell_type": "code",
   "execution_count": null,
   "id": "5757e05d",
   "metadata": {},
   "outputs": [],
   "source": []
  },
  {
   "cell_type": "code",
   "execution_count": null,
   "id": "59273557",
   "metadata": {},
   "outputs": [],
   "source": []
  },
  {
   "cell_type": "code",
   "execution_count": null,
   "id": "53232770",
   "metadata": {},
   "outputs": [],
   "source": []
  },
  {
   "cell_type": "code",
   "execution_count": null,
   "id": "fe6680d4",
   "metadata": {},
   "outputs": [],
   "source": []
  },
  {
   "cell_type": "code",
   "execution_count": 24,
   "id": "ef9f7889",
   "metadata": {},
   "outputs": [
    {
     "data": {
      "text/html": [
       "<div>\n",
       "<style scoped>\n",
       "    .dataframe tbody tr th:only-of-type {\n",
       "        vertical-align: middle;\n",
       "    }\n",
       "\n",
       "    .dataframe tbody tr th {\n",
       "        vertical-align: top;\n",
       "    }\n",
       "\n",
       "    .dataframe thead th {\n",
       "        text-align: right;\n",
       "    }\n",
       "</style>\n",
       "<table border=\"1\" class=\"dataframe\">\n",
       "  <thead>\n",
       "    <tr style=\"text-align: right;\">\n",
       "      <th></th>\n",
       "      <th>Which of the following integrated development environments (IDE's) do you use on a regular basis?  (Select all that apply) - Selected Choice - Jupyter (JupyterLab, Jupyter Notebooks, etc)</th>\n",
       "      <th>Which of the following integrated development environments (IDE's) do you use on a regular basis?  (Select all that apply) - Selected Choice -  RStudio</th>\n",
       "      <th>Which of the following integrated development environments (IDE's) do you use on a regular basis?  (Select all that apply) - Selected Choice -  Visual Studio</th>\n",
       "      <th>Which of the following integrated development environments (IDE's) do you use on a regular basis?  (Select all that apply) - Selected Choice -  Visual Studio Code (VSCode)</th>\n",
       "      <th>Which of the following integrated development environments (IDE's) do you use on a regular basis?  (Select all that apply) - Selected Choice -  PyCharm</th>\n",
       "      <th>Which of the following integrated development environments (IDE's) do you use on a regular basis?  (Select all that apply) - Selected Choice -   Spyder</th>\n",
       "      <th>Which of the following integrated development environments (IDE's) do you use on a regular basis?  (Select all that apply) - Selected Choice -   Notepad++</th>\n",
       "      <th>Which of the following integrated development environments (IDE's) do you use on a regular basis?  (Select all that apply) - Selected Choice -   Sublime Text</th>\n",
       "      <th>Which of the following integrated development environments (IDE's) do you use on a regular basis?  (Select all that apply) - Selected Choice -   Vim / Emacs</th>\n",
       "      <th>Which of the following integrated development environments (IDE's) do you use on a regular basis?  (Select all that apply) - Selected Choice -  MATLAB</th>\n",
       "      <th>Which of the following integrated development environments (IDE's) do you use on a regular basis?  (Select all that apply) - Selected Choice -  Jupyter Notebook</th>\n",
       "      <th>Which of the following integrated development environments (IDE's) do you use on a regular basis?  (Select all that apply) - Selected Choice - None</th>\n",
       "      <th>Which of the following integrated development environments (IDE's) do you use on a regular basis?  (Select all that apply) - Selected Choice - Other</th>\n",
       "      <th>Which of the following hosted notebook products do you use on a regular basis?  (Select all that apply) - Selected Choice -  Kaggle Notebooks</th>\n",
       "      <th>Which of the following hosted notebook products do you use on a regular basis?  (Select all that apply) - Selected Choice - Colab Notebooks</th>\n",
       "      <th>Which of the following hosted notebook products do you use on a regular basis?  (Select all that apply) - Selected Choice - Azure Notebooks</th>\n",
       "      <th>Which of the following hosted notebook products do you use on a regular basis?  (Select all that apply) - Selected Choice -  Paperspace / Gradient</th>\n",
       "      <th>Which of the following hosted notebook products do you use on a regular basis?  (Select all that apply) - Selected Choice -  Binder / JupyterHub</th>\n",
       "      <th>Which of the following hosted notebook products do you use on a regular basis?  (Select all that apply) - Selected Choice -  Code Ocean</th>\n",
       "    </tr>\n",
       "  </thead>\n",
       "  <tbody>\n",
       "    <tr>\n",
       "      <th>1</th>\n",
       "      <td>NaN</td>\n",
       "      <td>NaN</td>\n",
       "      <td>NaN</td>\n",
       "      <td>NaN</td>\n",
       "      <td>NaN</td>\n",
       "      <td>NaN</td>\n",
       "      <td>NaN</td>\n",
       "      <td>NaN</td>\n",
       "      <td>Vim / Emacs</td>\n",
       "      <td>NaN</td>\n",
       "      <td>NaN</td>\n",
       "      <td>NaN</td>\n",
       "      <td>NaN</td>\n",
       "      <td>NaN</td>\n",
       "      <td>Colab Notebooks</td>\n",
       "      <td>NaN</td>\n",
       "      <td>NaN</td>\n",
       "      <td>NaN</td>\n",
       "      <td>NaN</td>\n",
       "    </tr>\n",
       "    <tr>\n",
       "      <th>2</th>\n",
       "      <td>NaN</td>\n",
       "      <td>NaN</td>\n",
       "      <td>NaN</td>\n",
       "      <td>NaN</td>\n",
       "      <td>NaN</td>\n",
       "      <td>NaN</td>\n",
       "      <td>Notepad++</td>\n",
       "      <td>NaN</td>\n",
       "      <td>NaN</td>\n",
       "      <td>NaN</td>\n",
       "      <td>Jupyter Notebook</td>\n",
       "      <td>NaN</td>\n",
       "      <td>NaN</td>\n",
       "      <td>Kaggle Notebooks</td>\n",
       "      <td>Colab Notebooks</td>\n",
       "      <td>NaN</td>\n",
       "      <td>NaN</td>\n",
       "      <td>NaN</td>\n",
       "      <td>NaN</td>\n",
       "    </tr>\n",
       "    <tr>\n",
       "      <th>3</th>\n",
       "      <td>NaN</td>\n",
       "      <td>NaN</td>\n",
       "      <td>NaN</td>\n",
       "      <td>NaN</td>\n",
       "      <td>PyCharm</td>\n",
       "      <td>NaN</td>\n",
       "      <td>NaN</td>\n",
       "      <td>NaN</td>\n",
       "      <td>NaN</td>\n",
       "      <td>NaN</td>\n",
       "      <td>Jupyter Notebook</td>\n",
       "      <td>NaN</td>\n",
       "      <td>Other</td>\n",
       "      <td>Kaggle Notebooks</td>\n",
       "      <td>NaN</td>\n",
       "      <td>NaN</td>\n",
       "      <td>NaN</td>\n",
       "      <td>NaN</td>\n",
       "      <td>NaN</td>\n",
       "    </tr>\n",
       "    <tr>\n",
       "      <th>4</th>\n",
       "      <td>NaN</td>\n",
       "      <td>NaN</td>\n",
       "      <td>NaN</td>\n",
       "      <td>NaN</td>\n",
       "      <td>NaN</td>\n",
       "      <td>Spyder</td>\n",
       "      <td>NaN</td>\n",
       "      <td>NaN</td>\n",
       "      <td>NaN</td>\n",
       "      <td>NaN</td>\n",
       "      <td>Jupyter Notebook</td>\n",
       "      <td>NaN</td>\n",
       "      <td>NaN</td>\n",
       "      <td>NaN</td>\n",
       "      <td>Colab Notebooks</td>\n",
       "      <td>NaN</td>\n",
       "      <td>NaN</td>\n",
       "      <td>NaN</td>\n",
       "      <td>NaN</td>\n",
       "    </tr>\n",
       "    <tr>\n",
       "      <th>5</th>\n",
       "      <td>NaN</td>\n",
       "      <td>NaN</td>\n",
       "      <td>NaN</td>\n",
       "      <td>NaN</td>\n",
       "      <td>NaN</td>\n",
       "      <td>Spyder</td>\n",
       "      <td>NaN</td>\n",
       "      <td>NaN</td>\n",
       "      <td>NaN</td>\n",
       "      <td>MATLAB</td>\n",
       "      <td>Jupyter Notebook</td>\n",
       "      <td>NaN</td>\n",
       "      <td>NaN</td>\n",
       "      <td>NaN</td>\n",
       "      <td>NaN</td>\n",
       "      <td>NaN</td>\n",
       "      <td>NaN</td>\n",
       "      <td>NaN</td>\n",
       "      <td>NaN</td>\n",
       "    </tr>\n",
       "    <tr>\n",
       "      <th>...</th>\n",
       "      <td>...</td>\n",
       "      <td>...</td>\n",
       "      <td>...</td>\n",
       "      <td>...</td>\n",
       "      <td>...</td>\n",
       "      <td>...</td>\n",
       "      <td>...</td>\n",
       "      <td>...</td>\n",
       "      <td>...</td>\n",
       "      <td>...</td>\n",
       "      <td>...</td>\n",
       "      <td>...</td>\n",
       "      <td>...</td>\n",
       "      <td>...</td>\n",
       "      <td>...</td>\n",
       "      <td>...</td>\n",
       "      <td>...</td>\n",
       "      <td>...</td>\n",
       "      <td>...</td>\n",
       "    </tr>\n",
       "    <tr>\n",
       "      <th>25969</th>\n",
       "      <td>Jupyter (JupyterLab, Jupyter Notebooks, etc)</td>\n",
       "      <td>NaN</td>\n",
       "      <td>NaN</td>\n",
       "      <td>Visual Studio Code (VSCode)</td>\n",
       "      <td>NaN</td>\n",
       "      <td>NaN</td>\n",
       "      <td>NaN</td>\n",
       "      <td>NaN</td>\n",
       "      <td>Vim / Emacs</td>\n",
       "      <td>NaN</td>\n",
       "      <td>Jupyter Notebook</td>\n",
       "      <td>NaN</td>\n",
       "      <td>NaN</td>\n",
       "      <td>NaN</td>\n",
       "      <td>Colab Notebooks</td>\n",
       "      <td>NaN</td>\n",
       "      <td>NaN</td>\n",
       "      <td>NaN</td>\n",
       "      <td>NaN</td>\n",
       "    </tr>\n",
       "    <tr>\n",
       "      <th>25970</th>\n",
       "      <td>NaN</td>\n",
       "      <td>NaN</td>\n",
       "      <td>NaN</td>\n",
       "      <td>NaN</td>\n",
       "      <td>PyCharm</td>\n",
       "      <td>NaN</td>\n",
       "      <td>NaN</td>\n",
       "      <td>NaN</td>\n",
       "      <td>NaN</td>\n",
       "      <td>NaN</td>\n",
       "      <td>NaN</td>\n",
       "      <td>NaN</td>\n",
       "      <td>NaN</td>\n",
       "      <td>NaN</td>\n",
       "      <td>NaN</td>\n",
       "      <td>NaN</td>\n",
       "      <td>NaN</td>\n",
       "      <td>NaN</td>\n",
       "      <td>NaN</td>\n",
       "    </tr>\n",
       "    <tr>\n",
       "      <th>25971</th>\n",
       "      <td>NaN</td>\n",
       "      <td>NaN</td>\n",
       "      <td>NaN</td>\n",
       "      <td>NaN</td>\n",
       "      <td>NaN</td>\n",
       "      <td>NaN</td>\n",
       "      <td>NaN</td>\n",
       "      <td>NaN</td>\n",
       "      <td>NaN</td>\n",
       "      <td>NaN</td>\n",
       "      <td>NaN</td>\n",
       "      <td>NaN</td>\n",
       "      <td>NaN</td>\n",
       "      <td>NaN</td>\n",
       "      <td>NaN</td>\n",
       "      <td>NaN</td>\n",
       "      <td>NaN</td>\n",
       "      <td>NaN</td>\n",
       "      <td>NaN</td>\n",
       "    </tr>\n",
       "    <tr>\n",
       "      <th>25972</th>\n",
       "      <td>NaN</td>\n",
       "      <td>NaN</td>\n",
       "      <td>NaN</td>\n",
       "      <td>NaN</td>\n",
       "      <td>NaN</td>\n",
       "      <td>NaN</td>\n",
       "      <td>Notepad++</td>\n",
       "      <td>NaN</td>\n",
       "      <td>NaN</td>\n",
       "      <td>NaN</td>\n",
       "      <td>Jupyter Notebook</td>\n",
       "      <td>NaN</td>\n",
       "      <td>NaN</td>\n",
       "      <td>NaN</td>\n",
       "      <td>NaN</td>\n",
       "      <td>NaN</td>\n",
       "      <td>NaN</td>\n",
       "      <td>NaN</td>\n",
       "      <td>NaN</td>\n",
       "    </tr>\n",
       "    <tr>\n",
       "      <th>25973</th>\n",
       "      <td>NaN</td>\n",
       "      <td>NaN</td>\n",
       "      <td>NaN</td>\n",
       "      <td>NaN</td>\n",
       "      <td>NaN</td>\n",
       "      <td>NaN</td>\n",
       "      <td>NaN</td>\n",
       "      <td>NaN</td>\n",
       "      <td>NaN</td>\n",
       "      <td>NaN</td>\n",
       "      <td>NaN</td>\n",
       "      <td>NaN</td>\n",
       "      <td>NaN</td>\n",
       "      <td>NaN</td>\n",
       "      <td>NaN</td>\n",
       "      <td>NaN</td>\n",
       "      <td>NaN</td>\n",
       "      <td>NaN</td>\n",
       "      <td>NaN</td>\n",
       "    </tr>\n",
       "  </tbody>\n",
       "</table>\n",
       "<p>25973 rows × 19 columns</p>\n",
       "</div>"
      ],
      "text/plain": [
       "0     Which of the following integrated development environments (IDE's) do you use on a regular basis?  (Select all that apply) - Selected Choice - Jupyter (JupyterLab, Jupyter Notebooks, etc)   \\\n",
       "1                                                    NaN                                                                                                                                             \n",
       "2                                                    NaN                                                                                                                                             \n",
       "3                                                    NaN                                                                                                                                             \n",
       "4                                                    NaN                                                                                                                                             \n",
       "5                                                    NaN                                                                                                                                             \n",
       "...                                                  ...                                                                                                                                             \n",
       "25969      Jupyter (JupyterLab, Jupyter Notebooks, etc)                                                                                                                                              \n",
       "25970                                                NaN                                                                                                                                             \n",
       "25971                                                NaN                                                                                                                                             \n",
       "25972                                                NaN                                                                                                                                             \n",
       "25973                                                NaN                                                                                                                                             \n",
       "\n",
       "0     Which of the following integrated development environments (IDE's) do you use on a regular basis?  (Select all that apply) - Selected Choice -  RStudio   \\\n",
       "1                                                    NaN                                                                                                         \n",
       "2                                                    NaN                                                                                                         \n",
       "3                                                    NaN                                                                                                         \n",
       "4                                                    NaN                                                                                                         \n",
       "5                                                    NaN                                                                                                         \n",
       "...                                                  ...                                                                                                         \n",
       "25969                                                NaN                                                                                                         \n",
       "25970                                                NaN                                                                                                         \n",
       "25971                                                NaN                                                                                                         \n",
       "25972                                                NaN                                                                                                         \n",
       "25973                                                NaN                                                                                                         \n",
       "\n",
       "0     Which of the following integrated development environments (IDE's) do you use on a regular basis?  (Select all that apply) - Selected Choice -  Visual Studio   \\\n",
       "1                                                    NaN                                                                                                               \n",
       "2                                                    NaN                                                                                                               \n",
       "3                                                    NaN                                                                                                               \n",
       "4                                                    NaN                                                                                                               \n",
       "5                                                    NaN                                                                                                               \n",
       "...                                                  ...                                                                                                               \n",
       "25969                                                NaN                                                                                                               \n",
       "25970                                                NaN                                                                                                               \n",
       "25971                                                NaN                                                                                                               \n",
       "25972                                                NaN                                                                                                               \n",
       "25973                                                NaN                                                                                                               \n",
       "\n",
       "0     Which of the following integrated development environments (IDE's) do you use on a regular basis?  (Select all that apply) - Selected Choice -  Visual Studio Code (VSCode)   \\\n",
       "1                                                    NaN                                                                                                                             \n",
       "2                                                    NaN                                                                                                                             \n",
       "3                                                    NaN                                                                                                                             \n",
       "4                                                    NaN                                                                                                                             \n",
       "5                                                    NaN                                                                                                                             \n",
       "...                                                  ...                                                                                                                             \n",
       "25969                       Visual Studio Code (VSCode)                                                                                                                              \n",
       "25970                                                NaN                                                                                                                             \n",
       "25971                                                NaN                                                                                                                             \n",
       "25972                                                NaN                                                                                                                             \n",
       "25973                                                NaN                                                                                                                             \n",
       "\n",
       "0     Which of the following integrated development environments (IDE's) do you use on a regular basis?  (Select all that apply) - Selected Choice -  PyCharm   \\\n",
       "1                                                    NaN                                                                                                         \n",
       "2                                                    NaN                                                                                                         \n",
       "3                                               PyCharm                                                                                                          \n",
       "4                                                    NaN                                                                                                         \n",
       "5                                                    NaN                                                                                                         \n",
       "...                                                  ...                                                                                                         \n",
       "25969                                                NaN                                                                                                         \n",
       "25970                                           PyCharm                                                                                                          \n",
       "25971                                                NaN                                                                                                         \n",
       "25972                                                NaN                                                                                                         \n",
       "25973                                                NaN                                                                                                         \n",
       "\n",
       "0     Which of the following integrated development environments (IDE's) do you use on a regular basis?  (Select all that apply) - Selected Choice -   Spyder    \\\n",
       "1                                                    NaN                                                                                                          \n",
       "2                                                    NaN                                                                                                          \n",
       "3                                                    NaN                                                                                                          \n",
       "4                                               Spyder                                                                                                            \n",
       "5                                               Spyder                                                                                                            \n",
       "...                                                  ...                                                                                                          \n",
       "25969                                                NaN                                                                                                          \n",
       "25970                                                NaN                                                                                                          \n",
       "25971                                                NaN                                                                                                          \n",
       "25972                                                NaN                                                                                                          \n",
       "25973                                                NaN                                                                                                          \n",
       "\n",
       "0     Which of the following integrated development environments (IDE's) do you use on a regular basis?  (Select all that apply) - Selected Choice -   Notepad++    \\\n",
       "1                                                    NaN                                                                                                             \n",
       "2                                            Notepad++                                                                                                               \n",
       "3                                                    NaN                                                                                                             \n",
       "4                                                    NaN                                                                                                             \n",
       "5                                                    NaN                                                                                                             \n",
       "...                                                  ...                                                                                                             \n",
       "25969                                                NaN                                                                                                             \n",
       "25970                                                NaN                                                                                                             \n",
       "25971                                                NaN                                                                                                             \n",
       "25972                                        Notepad++                                                                                                               \n",
       "25973                                                NaN                                                                                                             \n",
       "\n",
       "0     Which of the following integrated development environments (IDE's) do you use on a regular basis?  (Select all that apply) - Selected Choice -   Sublime Text    \\\n",
       "1                                                    NaN                                                                                                                \n",
       "2                                                    NaN                                                                                                                \n",
       "3                                                    NaN                                                                                                                \n",
       "4                                                    NaN                                                                                                                \n",
       "5                                                    NaN                                                                                                                \n",
       "...                                                  ...                                                                                                                \n",
       "25969                                                NaN                                                                                                                \n",
       "25970                                                NaN                                                                                                                \n",
       "25971                                                NaN                                                                                                                \n",
       "25972                                                NaN                                                                                                                \n",
       "25973                                                NaN                                                                                                                \n",
       "\n",
       "0     Which of the following integrated development environments (IDE's) do you use on a regular basis?  (Select all that apply) - Selected Choice -   Vim / Emacs    \\\n",
       "1                                          Vim / Emacs                                                                                                                 \n",
       "2                                                    NaN                                                                                                               \n",
       "3                                                    NaN                                                                                                               \n",
       "4                                                    NaN                                                                                                               \n",
       "5                                                    NaN                                                                                                               \n",
       "...                                                  ...                                                                                                               \n",
       "25969                                      Vim / Emacs                                                                                                                 \n",
       "25970                                                NaN                                                                                                               \n",
       "25971                                                NaN                                                                                                               \n",
       "25972                                                NaN                                                                                                               \n",
       "25973                                                NaN                                                                                                               \n",
       "\n",
       "0     Which of the following integrated development environments (IDE's) do you use on a regular basis?  (Select all that apply) - Selected Choice -  MATLAB   \\\n",
       "1                                                    NaN                                                                                                        \n",
       "2                                                    NaN                                                                                                        \n",
       "3                                                    NaN                                                                                                        \n",
       "4                                                    NaN                                                                                                        \n",
       "5                                                MATLAB                                                                                                         \n",
       "...                                                  ...                                                                                                        \n",
       "25969                                                NaN                                                                                                        \n",
       "25970                                                NaN                                                                                                        \n",
       "25971                                                NaN                                                                                                        \n",
       "25972                                                NaN                                                                                                        \n",
       "25973                                                NaN                                                                                                        \n",
       "\n",
       "0     Which of the following integrated development environments (IDE's) do you use on a regular basis?  (Select all that apply) - Selected Choice -  Jupyter Notebook  \\\n",
       "1                                                    NaN                                                                                                                 \n",
       "2                                       Jupyter Notebook                                                                                                                 \n",
       "3                                       Jupyter Notebook                                                                                                                 \n",
       "4                                       Jupyter Notebook                                                                                                                 \n",
       "5                                       Jupyter Notebook                                                                                                                 \n",
       "...                                                  ...                                                                                                                 \n",
       "25969                                   Jupyter Notebook                                                                                                                 \n",
       "25970                                                NaN                                                                                                                 \n",
       "25971                                                NaN                                                                                                                 \n",
       "25972                                   Jupyter Notebook                                                                                                                 \n",
       "25973                                                NaN                                                                                                                 \n",
       "\n",
       "0     Which of the following integrated development environments (IDE's) do you use on a regular basis?  (Select all that apply) - Selected Choice - None  \\\n",
       "1                                                    NaN                                                                                                    \n",
       "2                                                    NaN                                                                                                    \n",
       "3                                                    NaN                                                                                                    \n",
       "4                                                    NaN                                                                                                    \n",
       "5                                                    NaN                                                                                                    \n",
       "...                                                  ...                                                                                                    \n",
       "25969                                                NaN                                                                                                    \n",
       "25970                                                NaN                                                                                                    \n",
       "25971                                                NaN                                                                                                    \n",
       "25972                                                NaN                                                                                                    \n",
       "25973                                                NaN                                                                                                    \n",
       "\n",
       "0     Which of the following integrated development environments (IDE's) do you use on a regular basis?  (Select all that apply) - Selected Choice - Other  \\\n",
       "1                                                    NaN                                                                                                     \n",
       "2                                                    NaN                                                                                                     \n",
       "3                                                  Other                                                                                                     \n",
       "4                                                    NaN                                                                                                     \n",
       "5                                                    NaN                                                                                                     \n",
       "...                                                  ...                                                                                                     \n",
       "25969                                                NaN                                                                                                     \n",
       "25970                                                NaN                                                                                                     \n",
       "25971                                                NaN                                                                                                     \n",
       "25972                                                NaN                                                                                                     \n",
       "25973                                                NaN                                                                                                     \n",
       "\n",
       "0     Which of the following hosted notebook products do you use on a regular basis?  (Select all that apply) - Selected Choice -  Kaggle Notebooks  \\\n",
       "1                                                    NaN                                                                                              \n",
       "2                                       Kaggle Notebooks                                                                                              \n",
       "3                                       Kaggle Notebooks                                                                                              \n",
       "4                                                    NaN                                                                                              \n",
       "5                                                    NaN                                                                                              \n",
       "...                                                  ...                                                                                              \n",
       "25969                                                NaN                                                                                              \n",
       "25970                                                NaN                                                                                              \n",
       "25971                                                NaN                                                                                              \n",
       "25972                                                NaN                                                                                              \n",
       "25973                                                NaN                                                                                              \n",
       "\n",
       "0     Which of the following hosted notebook products do you use on a regular basis?  (Select all that apply) - Selected Choice - Colab Notebooks  \\\n",
       "1                                        Colab Notebooks                                                                                            \n",
       "2                                        Colab Notebooks                                                                                            \n",
       "3                                                    NaN                                                                                            \n",
       "4                                        Colab Notebooks                                                                                            \n",
       "5                                                    NaN                                                                                            \n",
       "...                                                  ...                                                                                            \n",
       "25969                                    Colab Notebooks                                                                                            \n",
       "25970                                                NaN                                                                                            \n",
       "25971                                                NaN                                                                                            \n",
       "25972                                                NaN                                                                                            \n",
       "25973                                                NaN                                                                                            \n",
       "\n",
       "0     Which of the following hosted notebook products do you use on a regular basis?  (Select all that apply) - Selected Choice - Azure Notebooks  \\\n",
       "1                                                    NaN                                                                                            \n",
       "2                                                    NaN                                                                                            \n",
       "3                                                    NaN                                                                                            \n",
       "4                                                    NaN                                                                                            \n",
       "5                                                    NaN                                                                                            \n",
       "...                                                  ...                                                                                            \n",
       "25969                                                NaN                                                                                            \n",
       "25970                                                NaN                                                                                            \n",
       "25971                                                NaN                                                                                            \n",
       "25972                                                NaN                                                                                            \n",
       "25973                                                NaN                                                                                            \n",
       "\n",
       "0     Which of the following hosted notebook products do you use on a regular basis?  (Select all that apply) - Selected Choice -  Paperspace / Gradient   \\\n",
       "1                                                    NaN                                                                                                    \n",
       "2                                                    NaN                                                                                                    \n",
       "3                                                    NaN                                                                                                    \n",
       "4                                                    NaN                                                                                                    \n",
       "5                                                    NaN                                                                                                    \n",
       "...                                                  ...                                                                                                    \n",
       "25969                                                NaN                                                                                                    \n",
       "25970                                                NaN                                                                                                    \n",
       "25971                                                NaN                                                                                                    \n",
       "25972                                                NaN                                                                                                    \n",
       "25973                                                NaN                                                                                                    \n",
       "\n",
       "0     Which of the following hosted notebook products do you use on a regular basis?  (Select all that apply) - Selected Choice -  Binder / JupyterHub   \\\n",
       "1                                                    NaN                                                                                                  \n",
       "2                                                    NaN                                                                                                  \n",
       "3                                                    NaN                                                                                                  \n",
       "4                                                    NaN                                                                                                  \n",
       "5                                                    NaN                                                                                                  \n",
       "...                                                  ...                                                                                                  \n",
       "25969                                                NaN                                                                                                  \n",
       "25970                                                NaN                                                                                                  \n",
       "25971                                                NaN                                                                                                  \n",
       "25972                                                NaN                                                                                                  \n",
       "25973                                                NaN                                                                                                  \n",
       "\n",
       "0     Which of the following hosted notebook products do you use on a regular basis?  (Select all that apply) - Selected Choice -  Code Ocean   \n",
       "1                                                    NaN                                                                                        \n",
       "2                                                    NaN                                                                                        \n",
       "3                                                    NaN                                                                                        \n",
       "4                                                    NaN                                                                                        \n",
       "5                                                    NaN                                                                                        \n",
       "...                                                  ...                                                                                        \n",
       "25969                                                NaN                                                                                        \n",
       "25970                                                NaN                                                                                        \n",
       "25971                                                NaN                                                                                        \n",
       "25972                                                NaN                                                                                        \n",
       "25973                                                NaN                                                                                        \n",
       "\n",
       "[25973 rows x 19 columns]"
      ]
     },
     "execution_count": 24,
     "metadata": {},
     "output_type": "execute_result"
    }
   ],
   "source": [
    "df.iloc[: , 21:40]"
   ]
  },
  {
   "cell_type": "code",
   "execution_count": 25,
   "id": "d2582dcd",
   "metadata": {},
   "outputs": [
    {
     "data": {
      "text/html": [
       "<div>\n",
       "<style scoped>\n",
       "    .dataframe tbody tr th:only-of-type {\n",
       "        vertical-align: middle;\n",
       "    }\n",
       "\n",
       "    .dataframe tbody tr th {\n",
       "        vertical-align: top;\n",
       "    }\n",
       "\n",
       "    .dataframe thead th {\n",
       "        text-align: right;\n",
       "    }\n",
       "</style>\n",
       "<table border=\"1\" class=\"dataframe\">\n",
       "  <thead>\n",
       "    <tr style=\"text-align: right;\">\n",
       "      <th></th>\n",
       "      <th>Which of the following hosted notebook products do you use on a regular basis?  (Select all that apply) - Selected Choice -  IBM Watson Studio</th>\n",
       "      <th>Which of the following hosted notebook products do you use on a regular basis?  (Select all that apply) - Selected Choice -  Amazon Sagemaker Studio Notebooks</th>\n",
       "      <th>Which of the following hosted notebook products do you use on a regular basis?  (Select all that apply) - Selected Choice -  Amazon EMR Notebooks</th>\n",
       "      <th>Which of the following hosted notebook products do you use on a regular basis?  (Select all that apply) - Selected Choice - Google Cloud Notebooks (AI Platform / Vertex AI)</th>\n",
       "      <th>Which of the following hosted notebook products do you use on a regular basis?  (Select all that apply) - Selected Choice - Google Cloud Datalab</th>\n",
       "      <th>Which of the following hosted notebook products do you use on a regular basis?  (Select all that apply) - Selected Choice -  Databricks Collaborative Notebooks</th>\n",
       "      <th>Which of the following hosted notebook products do you use on a regular basis?  (Select all that apply) - Selected Choice -  Zeppelin / Zepl Notebooks</th>\n",
       "      <th>Which of the following hosted notebook products do you use on a regular basis?  (Select all that apply) - Selected Choice -  Deepnote Notebooks</th>\n",
       "      <th>Which of the following hosted notebook products do you use on a regular basis?  (Select all that apply) - Selected Choice -  Observable Notebooks</th>\n",
       "      <th>Which of the following hosted notebook products do you use on a regular basis?  (Select all that apply) - Selected Choice - None</th>\n",
       "      <th>...</th>\n",
       "      <th>What data visualization libraries or tools do you use on a regular basis?  (Select all that apply) - Selected Choice -  Seaborn</th>\n",
       "      <th>What data visualization libraries or tools do you use on a regular basis?  (Select all that apply) - Selected Choice -  Plotly / Plotly Express</th>\n",
       "      <th>What data visualization libraries or tools do you use on a regular basis?  (Select all that apply) - Selected Choice -  Ggplot / ggplot2</th>\n",
       "      <th>What data visualization libraries or tools do you use on a regular basis?  (Select all that apply) - Selected Choice -  Shiny</th>\n",
       "      <th>What data visualization libraries or tools do you use on a regular basis?  (Select all that apply) - Selected Choice -  D3 js</th>\n",
       "      <th>What data visualization libraries or tools do you use on a regular basis?  (Select all that apply) - Selected Choice -  Altair</th>\n",
       "      <th>What data visualization libraries or tools do you use on a regular basis?  (Select all that apply) - Selected Choice -  Bokeh</th>\n",
       "      <th>What data visualization libraries or tools do you use on a regular basis?  (Select all that apply) - Selected Choice -  Geoplotlib</th>\n",
       "      <th>What data visualization libraries or tools do you use on a regular basis?  (Select all that apply) - Selected Choice -  Leaflet / Folium</th>\n",
       "      <th>What data visualization libraries or tools do you use on a regular basis?  (Select all that apply) - Selected Choice - None</th>\n",
       "    </tr>\n",
       "  </thead>\n",
       "  <tbody>\n",
       "    <tr>\n",
       "      <th>1</th>\n",
       "      <td>NaN</td>\n",
       "      <td>NaN</td>\n",
       "      <td>NaN</td>\n",
       "      <td>NaN</td>\n",
       "      <td>NaN</td>\n",
       "      <td>NaN</td>\n",
       "      <td>NaN</td>\n",
       "      <td>NaN</td>\n",
       "      <td>NaN</td>\n",
       "      <td>NaN</td>\n",
       "      <td>...</td>\n",
       "      <td>Seaborn</td>\n",
       "      <td>NaN</td>\n",
       "      <td>Ggplot / ggplot2</td>\n",
       "      <td>Shiny</td>\n",
       "      <td>NaN</td>\n",
       "      <td>NaN</td>\n",
       "      <td>NaN</td>\n",
       "      <td>NaN</td>\n",
       "      <td>Leaflet / Folium</td>\n",
       "      <td>NaN</td>\n",
       "    </tr>\n",
       "    <tr>\n",
       "      <th>2</th>\n",
       "      <td>NaN</td>\n",
       "      <td>NaN</td>\n",
       "      <td>NaN</td>\n",
       "      <td>NaN</td>\n",
       "      <td>NaN</td>\n",
       "      <td>NaN</td>\n",
       "      <td>NaN</td>\n",
       "      <td>NaN</td>\n",
       "      <td>NaN</td>\n",
       "      <td>NaN</td>\n",
       "      <td>...</td>\n",
       "      <td>NaN</td>\n",
       "      <td>NaN</td>\n",
       "      <td>NaN</td>\n",
       "      <td>NaN</td>\n",
       "      <td>NaN</td>\n",
       "      <td>NaN</td>\n",
       "      <td>NaN</td>\n",
       "      <td>NaN</td>\n",
       "      <td>NaN</td>\n",
       "      <td>NaN</td>\n",
       "    </tr>\n",
       "    <tr>\n",
       "      <th>3</th>\n",
       "      <td>NaN</td>\n",
       "      <td>NaN</td>\n",
       "      <td>NaN</td>\n",
       "      <td>NaN</td>\n",
       "      <td>NaN</td>\n",
       "      <td>NaN</td>\n",
       "      <td>NaN</td>\n",
       "      <td>NaN</td>\n",
       "      <td>NaN</td>\n",
       "      <td>NaN</td>\n",
       "      <td>...</td>\n",
       "      <td>NaN</td>\n",
       "      <td>NaN</td>\n",
       "      <td>NaN</td>\n",
       "      <td>NaN</td>\n",
       "      <td>NaN</td>\n",
       "      <td>NaN</td>\n",
       "      <td>NaN</td>\n",
       "      <td>NaN</td>\n",
       "      <td>NaN</td>\n",
       "      <td>NaN</td>\n",
       "    </tr>\n",
       "    <tr>\n",
       "      <th>4</th>\n",
       "      <td>NaN</td>\n",
       "      <td>NaN</td>\n",
       "      <td>NaN</td>\n",
       "      <td>NaN</td>\n",
       "      <td>NaN</td>\n",
       "      <td>NaN</td>\n",
       "      <td>NaN</td>\n",
       "      <td>NaN</td>\n",
       "      <td>NaN</td>\n",
       "      <td>NaN</td>\n",
       "      <td>...</td>\n",
       "      <td>NaN</td>\n",
       "      <td>NaN</td>\n",
       "      <td>NaN</td>\n",
       "      <td>NaN</td>\n",
       "      <td>NaN</td>\n",
       "      <td>NaN</td>\n",
       "      <td>NaN</td>\n",
       "      <td>NaN</td>\n",
       "      <td>NaN</td>\n",
       "      <td>NaN</td>\n",
       "    </tr>\n",
       "    <tr>\n",
       "      <th>5</th>\n",
       "      <td>NaN</td>\n",
       "      <td>NaN</td>\n",
       "      <td>NaN</td>\n",
       "      <td>NaN</td>\n",
       "      <td>Google Cloud Datalab</td>\n",
       "      <td>NaN</td>\n",
       "      <td>NaN</td>\n",
       "      <td>NaN</td>\n",
       "      <td>NaN</td>\n",
       "      <td>NaN</td>\n",
       "      <td>...</td>\n",
       "      <td>Seaborn</td>\n",
       "      <td>NaN</td>\n",
       "      <td>Ggplot / ggplot2</td>\n",
       "      <td>NaN</td>\n",
       "      <td>NaN</td>\n",
       "      <td>NaN</td>\n",
       "      <td>NaN</td>\n",
       "      <td>NaN</td>\n",
       "      <td>NaN</td>\n",
       "      <td>NaN</td>\n",
       "    </tr>\n",
       "    <tr>\n",
       "      <th>...</th>\n",
       "      <td>...</td>\n",
       "      <td>...</td>\n",
       "      <td>...</td>\n",
       "      <td>...</td>\n",
       "      <td>...</td>\n",
       "      <td>...</td>\n",
       "      <td>...</td>\n",
       "      <td>...</td>\n",
       "      <td>...</td>\n",
       "      <td>...</td>\n",
       "      <td>...</td>\n",
       "      <td>...</td>\n",
       "      <td>...</td>\n",
       "      <td>...</td>\n",
       "      <td>...</td>\n",
       "      <td>...</td>\n",
       "      <td>...</td>\n",
       "      <td>...</td>\n",
       "      <td>...</td>\n",
       "      <td>...</td>\n",
       "      <td>...</td>\n",
       "    </tr>\n",
       "    <tr>\n",
       "      <th>25969</th>\n",
       "      <td>NaN</td>\n",
       "      <td>Amazon Sagemaker Studio Notebooks</td>\n",
       "      <td>Amazon EMR Notebooks</td>\n",
       "      <td>NaN</td>\n",
       "      <td>NaN</td>\n",
       "      <td>Databricks Collaborative Notebooks</td>\n",
       "      <td>NaN</td>\n",
       "      <td>NaN</td>\n",
       "      <td>NaN</td>\n",
       "      <td>NaN</td>\n",
       "      <td>...</td>\n",
       "      <td>Seaborn</td>\n",
       "      <td>NaN</td>\n",
       "      <td>NaN</td>\n",
       "      <td>NaN</td>\n",
       "      <td>NaN</td>\n",
       "      <td>NaN</td>\n",
       "      <td>NaN</td>\n",
       "      <td>NaN</td>\n",
       "      <td>NaN</td>\n",
       "      <td>NaN</td>\n",
       "    </tr>\n",
       "    <tr>\n",
       "      <th>25970</th>\n",
       "      <td>NaN</td>\n",
       "      <td>NaN</td>\n",
       "      <td>NaN</td>\n",
       "      <td>NaN</td>\n",
       "      <td>NaN</td>\n",
       "      <td>NaN</td>\n",
       "      <td>NaN</td>\n",
       "      <td>NaN</td>\n",
       "      <td>NaN</td>\n",
       "      <td>None</td>\n",
       "      <td>...</td>\n",
       "      <td>NaN</td>\n",
       "      <td>NaN</td>\n",
       "      <td>NaN</td>\n",
       "      <td>NaN</td>\n",
       "      <td>NaN</td>\n",
       "      <td>NaN</td>\n",
       "      <td>NaN</td>\n",
       "      <td>NaN</td>\n",
       "      <td>NaN</td>\n",
       "      <td>None</td>\n",
       "    </tr>\n",
       "    <tr>\n",
       "      <th>25971</th>\n",
       "      <td>NaN</td>\n",
       "      <td>NaN</td>\n",
       "      <td>NaN</td>\n",
       "      <td>NaN</td>\n",
       "      <td>NaN</td>\n",
       "      <td>NaN</td>\n",
       "      <td>NaN</td>\n",
       "      <td>NaN</td>\n",
       "      <td>NaN</td>\n",
       "      <td>NaN</td>\n",
       "      <td>...</td>\n",
       "      <td>NaN</td>\n",
       "      <td>NaN</td>\n",
       "      <td>NaN</td>\n",
       "      <td>NaN</td>\n",
       "      <td>NaN</td>\n",
       "      <td>NaN</td>\n",
       "      <td>NaN</td>\n",
       "      <td>NaN</td>\n",
       "      <td>NaN</td>\n",
       "      <td>NaN</td>\n",
       "    </tr>\n",
       "    <tr>\n",
       "      <th>25972</th>\n",
       "      <td>NaN</td>\n",
       "      <td>NaN</td>\n",
       "      <td>NaN</td>\n",
       "      <td>NaN</td>\n",
       "      <td>NaN</td>\n",
       "      <td>NaN</td>\n",
       "      <td>NaN</td>\n",
       "      <td>NaN</td>\n",
       "      <td>NaN</td>\n",
       "      <td>None</td>\n",
       "      <td>...</td>\n",
       "      <td>Seaborn</td>\n",
       "      <td>NaN</td>\n",
       "      <td>NaN</td>\n",
       "      <td>NaN</td>\n",
       "      <td>NaN</td>\n",
       "      <td>NaN</td>\n",
       "      <td>NaN</td>\n",
       "      <td>NaN</td>\n",
       "      <td>NaN</td>\n",
       "      <td>NaN</td>\n",
       "    </tr>\n",
       "    <tr>\n",
       "      <th>25973</th>\n",
       "      <td>NaN</td>\n",
       "      <td>NaN</td>\n",
       "      <td>NaN</td>\n",
       "      <td>NaN</td>\n",
       "      <td>NaN</td>\n",
       "      <td>NaN</td>\n",
       "      <td>NaN</td>\n",
       "      <td>NaN</td>\n",
       "      <td>NaN</td>\n",
       "      <td>NaN</td>\n",
       "      <td>...</td>\n",
       "      <td>NaN</td>\n",
       "      <td>NaN</td>\n",
       "      <td>NaN</td>\n",
       "      <td>NaN</td>\n",
       "      <td>NaN</td>\n",
       "      <td>NaN</td>\n",
       "      <td>NaN</td>\n",
       "      <td>NaN</td>\n",
       "      <td>NaN</td>\n",
       "      <td>NaN</td>\n",
       "    </tr>\n",
       "  </tbody>\n",
       "</table>\n",
       "<p>25973 rows × 30 columns</p>\n",
       "</div>"
      ],
      "text/plain": [
       "0     Which of the following hosted notebook products do you use on a regular basis?  (Select all that apply) - Selected Choice -  IBM Watson Studio   \\\n",
       "1                                                    NaN                                                                                                \n",
       "2                                                    NaN                                                                                                \n",
       "3                                                    NaN                                                                                                \n",
       "4                                                    NaN                                                                                                \n",
       "5                                                    NaN                                                                                                \n",
       "...                                                  ...                                                                                                \n",
       "25969                                                NaN                                                                                                \n",
       "25970                                                NaN                                                                                                \n",
       "25971                                                NaN                                                                                                \n",
       "25972                                                NaN                                                                                                \n",
       "25973                                                NaN                                                                                                \n",
       "\n",
       "0     Which of the following hosted notebook products do you use on a regular basis?  (Select all that apply) - Selected Choice -  Amazon Sagemaker Studio Notebooks   \\\n",
       "1                                                    NaN                                                                                                                \n",
       "2                                                    NaN                                                                                                                \n",
       "3                                                    NaN                                                                                                                \n",
       "4                                                    NaN                                                                                                                \n",
       "5                                                    NaN                                                                                                                \n",
       "...                                                  ...                                                                                                                \n",
       "25969                 Amazon Sagemaker Studio Notebooks                                                                                                                 \n",
       "25970                                                NaN                                                                                                                \n",
       "25971                                                NaN                                                                                                                \n",
       "25972                                                NaN                                                                                                                \n",
       "25973                                                NaN                                                                                                                \n",
       "\n",
       "0     Which of the following hosted notebook products do you use on a regular basis?  (Select all that apply) - Selected Choice -  Amazon EMR Notebooks   \\\n",
       "1                                                    NaN                                                                                                   \n",
       "2                                                    NaN                                                                                                   \n",
       "3                                                    NaN                                                                                                   \n",
       "4                                                    NaN                                                                                                   \n",
       "5                                                    NaN                                                                                                   \n",
       "...                                                  ...                                                                                                   \n",
       "25969                              Amazon EMR Notebooks                                                                                                    \n",
       "25970                                                NaN                                                                                                   \n",
       "25971                                                NaN                                                                                                   \n",
       "25972                                                NaN                                                                                                   \n",
       "25973                                                NaN                                                                                                   \n",
       "\n",
       "0     Which of the following hosted notebook products do you use on a regular basis?  (Select all that apply) - Selected Choice - Google Cloud Notebooks (AI Platform / Vertex AI)   \\\n",
       "1                                                    NaN                                                                                                                              \n",
       "2                                                    NaN                                                                                                                              \n",
       "3                                                    NaN                                                                                                                              \n",
       "4                                                    NaN                                                                                                                              \n",
       "5                                                    NaN                                                                                                                              \n",
       "...                                                  ...                                                                                                                              \n",
       "25969                                                NaN                                                                                                                              \n",
       "25970                                                NaN                                                                                                                              \n",
       "25971                                                NaN                                                                                                                              \n",
       "25972                                                NaN                                                                                                                              \n",
       "25973                                                NaN                                                                                                                              \n",
       "\n",
       "0     Which of the following hosted notebook products do you use on a regular basis?  (Select all that apply) - Selected Choice - Google Cloud Datalab  \\\n",
       "1                                                    NaN                                                                                                 \n",
       "2                                                    NaN                                                                                                 \n",
       "3                                                    NaN                                                                                                 \n",
       "4                                                    NaN                                                                                                 \n",
       "5                                   Google Cloud Datalab                                                                                                 \n",
       "...                                                  ...                                                                                                 \n",
       "25969                                                NaN                                                                                                 \n",
       "25970                                                NaN                                                                                                 \n",
       "25971                                                NaN                                                                                                 \n",
       "25972                                                NaN                                                                                                 \n",
       "25973                                                NaN                                                                                                 \n",
       "\n",
       "0     Which of the following hosted notebook products do you use on a regular basis?  (Select all that apply) - Selected Choice -  Databricks Collaborative Notebooks   \\\n",
       "1                                                    NaN                                                                                                                 \n",
       "2                                                    NaN                                                                                                                 \n",
       "3                                                    NaN                                                                                                                 \n",
       "4                                                    NaN                                                                                                                 \n",
       "5                                                    NaN                                                                                                                 \n",
       "...                                                  ...                                                                                                                 \n",
       "25969                Databricks Collaborative Notebooks                                                                                                                  \n",
       "25970                                                NaN                                                                                                                 \n",
       "25971                                                NaN                                                                                                                 \n",
       "25972                                                NaN                                                                                                                 \n",
       "25973                                                NaN                                                                                                                 \n",
       "\n",
       "0     Which of the following hosted notebook products do you use on a regular basis?  (Select all that apply) - Selected Choice -  Zeppelin / Zepl Notebooks   \\\n",
       "1                                                    NaN                                                                                                        \n",
       "2                                                    NaN                                                                                                        \n",
       "3                                                    NaN                                                                                                        \n",
       "4                                                    NaN                                                                                                        \n",
       "5                                                    NaN                                                                                                        \n",
       "...                                                  ...                                                                                                        \n",
       "25969                                                NaN                                                                                                        \n",
       "25970                                                NaN                                                                                                        \n",
       "25971                                                NaN                                                                                                        \n",
       "25972                                                NaN                                                                                                        \n",
       "25973                                                NaN                                                                                                        \n",
       "\n",
       "0     Which of the following hosted notebook products do you use on a regular basis?  (Select all that apply) - Selected Choice -  Deepnote Notebooks   \\\n",
       "1                                                    NaN                                                                                                 \n",
       "2                                                    NaN                                                                                                 \n",
       "3                                                    NaN                                                                                                 \n",
       "4                                                    NaN                                                                                                 \n",
       "5                                                    NaN                                                                                                 \n",
       "...                                                  ...                                                                                                 \n",
       "25969                                                NaN                                                                                                 \n",
       "25970                                                NaN                                                                                                 \n",
       "25971                                                NaN                                                                                                 \n",
       "25972                                                NaN                                                                                                 \n",
       "25973                                                NaN                                                                                                 \n",
       "\n",
       "0     Which of the following hosted notebook products do you use on a regular basis?  (Select all that apply) - Selected Choice -  Observable Notebooks   \\\n",
       "1                                                    NaN                                                                                                   \n",
       "2                                                    NaN                                                                                                   \n",
       "3                                                    NaN                                                                                                   \n",
       "4                                                    NaN                                                                                                   \n",
       "5                                                    NaN                                                                                                   \n",
       "...                                                  ...                                                                                                   \n",
       "25969                                                NaN                                                                                                   \n",
       "25970                                                NaN                                                                                                   \n",
       "25971                                                NaN                                                                                                   \n",
       "25972                                                NaN                                                                                                   \n",
       "25973                                                NaN                                                                                                   \n",
       "\n",
       "0     Which of the following hosted notebook products do you use on a regular basis?  (Select all that apply) - Selected Choice - None  \\\n",
       "1                                                    NaN                                                                                 \n",
       "2                                                    NaN                                                                                 \n",
       "3                                                    NaN                                                                                 \n",
       "4                                                    NaN                                                                                 \n",
       "5                                                    NaN                                                                                 \n",
       "...                                                  ...                                                                                 \n",
       "25969                                                NaN                                                                                 \n",
       "25970                                               None                                                                                 \n",
       "25971                                                NaN                                                                                 \n",
       "25972                                               None                                                                                 \n",
       "25973                                                NaN                                                                                 \n",
       "\n",
       "0      ...  \\\n",
       "1      ...   \n",
       "2      ...   \n",
       "3      ...   \n",
       "4      ...   \n",
       "5      ...   \n",
       "...    ...   \n",
       "25969  ...   \n",
       "25970  ...   \n",
       "25971  ...   \n",
       "25972  ...   \n",
       "25973  ...   \n",
       "\n",
       "0     What data visualization libraries or tools do you use on a regular basis?  (Select all that apply) - Selected Choice -  Seaborn   \\\n",
       "1                                               Seaborn                                                                                  \n",
       "2                                                    NaN                                                                                 \n",
       "3                                                    NaN                                                                                 \n",
       "4                                                    NaN                                                                                 \n",
       "5                                               Seaborn                                                                                  \n",
       "...                                                  ...                                                                                 \n",
       "25969                                           Seaborn                                                                                  \n",
       "25970                                                NaN                                                                                 \n",
       "25971                                                NaN                                                                                 \n",
       "25972                                           Seaborn                                                                                  \n",
       "25973                                                NaN                                                                                 \n",
       "\n",
       "0     What data visualization libraries or tools do you use on a regular basis?  (Select all that apply) - Selected Choice -  Plotly / Plotly Express   \\\n",
       "1                                                    NaN                                                                                                 \n",
       "2                                                    NaN                                                                                                 \n",
       "3                                                    NaN                                                                                                 \n",
       "4                                                    NaN                                                                                                 \n",
       "5                                                    NaN                                                                                                 \n",
       "...                                                  ...                                                                                                 \n",
       "25969                                                NaN                                                                                                 \n",
       "25970                                                NaN                                                                                                 \n",
       "25971                                                NaN                                                                                                 \n",
       "25972                                                NaN                                                                                                 \n",
       "25973                                                NaN                                                                                                 \n",
       "\n",
       "0     What data visualization libraries or tools do you use on a regular basis?  (Select all that apply) - Selected Choice -  Ggplot / ggplot2   \\\n",
       "1                                      Ggplot / ggplot2                                                                                           \n",
       "2                                                    NaN                                                                                          \n",
       "3                                                    NaN                                                                                          \n",
       "4                                                    NaN                                                                                          \n",
       "5                                      Ggplot / ggplot2                                                                                           \n",
       "...                                                  ...                                                                                          \n",
       "25969                                                NaN                                                                                          \n",
       "25970                                                NaN                                                                                          \n",
       "25971                                                NaN                                                                                          \n",
       "25972                                                NaN                                                                                          \n",
       "25973                                                NaN                                                                                          \n",
       "\n",
       "0     What data visualization libraries or tools do you use on a regular basis?  (Select all that apply) - Selected Choice -  Shiny   \\\n",
       "1                                                 Shiny                                                                                \n",
       "2                                                    NaN                                                                               \n",
       "3                                                    NaN                                                                               \n",
       "4                                                    NaN                                                                               \n",
       "5                                                    NaN                                                                               \n",
       "...                                                  ...                                                                               \n",
       "25969                                                NaN                                                                               \n",
       "25970                                                NaN                                                                               \n",
       "25971                                                NaN                                                                               \n",
       "25972                                                NaN                                                                               \n",
       "25973                                                NaN                                                                               \n",
       "\n",
       "0     What data visualization libraries or tools do you use on a regular basis?  (Select all that apply) - Selected Choice -  D3 js   \\\n",
       "1                                                    NaN                                                                               \n",
       "2                                                    NaN                                                                               \n",
       "3                                                    NaN                                                                               \n",
       "4                                                    NaN                                                                               \n",
       "5                                                    NaN                                                                               \n",
       "...                                                  ...                                                                               \n",
       "25969                                                NaN                                                                               \n",
       "25970                                                NaN                                                                               \n",
       "25971                                                NaN                                                                               \n",
       "25972                                                NaN                                                                               \n",
       "25973                                                NaN                                                                               \n",
       "\n",
       "0     What data visualization libraries or tools do you use on a regular basis?  (Select all that apply) - Selected Choice -  Altair   \\\n",
       "1                                                    NaN                                                                                \n",
       "2                                                    NaN                                                                                \n",
       "3                                                    NaN                                                                                \n",
       "4                                                    NaN                                                                                \n",
       "5                                                    NaN                                                                                \n",
       "...                                                  ...                                                                                \n",
       "25969                                                NaN                                                                                \n",
       "25970                                                NaN                                                                                \n",
       "25971                                                NaN                                                                                \n",
       "25972                                                NaN                                                                                \n",
       "25973                                                NaN                                                                                \n",
       "\n",
       "0     What data visualization libraries or tools do you use on a regular basis?  (Select all that apply) - Selected Choice -  Bokeh   \\\n",
       "1                                                    NaN                                                                               \n",
       "2                                                    NaN                                                                               \n",
       "3                                                    NaN                                                                               \n",
       "4                                                    NaN                                                                               \n",
       "5                                                    NaN                                                                               \n",
       "...                                                  ...                                                                               \n",
       "25969                                                NaN                                                                               \n",
       "25970                                                NaN                                                                               \n",
       "25971                                                NaN                                                                               \n",
       "25972                                                NaN                                                                               \n",
       "25973                                                NaN                                                                               \n",
       "\n",
       "0     What data visualization libraries or tools do you use on a regular basis?  (Select all that apply) - Selected Choice -  Geoplotlib   \\\n",
       "1                                                    NaN                                                                                    \n",
       "2                                                    NaN                                                                                    \n",
       "3                                                    NaN                                                                                    \n",
       "4                                                    NaN                                                                                    \n",
       "5                                                    NaN                                                                                    \n",
       "...                                                  ...                                                                                    \n",
       "25969                                                NaN                                                                                    \n",
       "25970                                                NaN                                                                                    \n",
       "25971                                                NaN                                                                                    \n",
       "25972                                                NaN                                                                                    \n",
       "25973                                                NaN                                                                                    \n",
       "\n",
       "0     What data visualization libraries or tools do you use on a regular basis?  (Select all that apply) - Selected Choice -  Leaflet / Folium   \\\n",
       "1                                      Leaflet / Folium                                                                                           \n",
       "2                                                    NaN                                                                                          \n",
       "3                                                    NaN                                                                                          \n",
       "4                                                    NaN                                                                                          \n",
       "5                                                    NaN                                                                                          \n",
       "...                                                  ...                                                                                          \n",
       "25969                                                NaN                                                                                          \n",
       "25970                                                NaN                                                                                          \n",
       "25971                                                NaN                                                                                          \n",
       "25972                                                NaN                                                                                          \n",
       "25973                                                NaN                                                                                          \n",
       "\n",
       "0     What data visualization libraries or tools do you use on a regular basis?  (Select all that apply) - Selected Choice - None  \n",
       "1                                                    NaN                                                                           \n",
       "2                                                    NaN                                                                           \n",
       "3                                                    NaN                                                                           \n",
       "4                                                    NaN                                                                           \n",
       "5                                                    NaN                                                                           \n",
       "...                                                  ...                                                                           \n",
       "25969                                                NaN                                                                           \n",
       "25970                                               None                                                                           \n",
       "25971                                                NaN                                                                           \n",
       "25972                                                NaN                                                                           \n",
       "25973                                                NaN                                                                           \n",
       "\n",
       "[25973 rows x 30 columns]"
      ]
     },
     "execution_count": 25,
     "metadata": {},
     "output_type": "execute_result"
    }
   ],
   "source": [
    "df.iloc[: , 40:70]"
   ]
  },
  {
   "cell_type": "code",
   "execution_count": null,
   "id": "ff76e928",
   "metadata": {},
   "outputs": [],
   "source": []
  },
  {
   "cell_type": "code",
   "execution_count": 29,
   "id": "87feba95",
   "metadata": {},
   "outputs": [],
   "source": [
    "\n"
   ]
  },
  {
   "cell_type": "code",
   "execution_count": null,
   "id": "7972b0cd",
   "metadata": {},
   "outputs": [],
   "source": []
  }
 ],
 "metadata": {
  "kernelspec": {
   "display_name": "Python 3",
   "language": "python",
   "name": "python3"
  },
  "language_info": {
   "codemirror_mode": {
    "name": "ipython",
    "version": 3
   },
   "file_extension": ".py",
   "mimetype": "text/x-python",
   "name": "python",
   "nbconvert_exporter": "python",
   "pygments_lexer": "ipython3",
   "version": "3.8.8"
  }
 },
 "nbformat": 4,
 "nbformat_minor": 5
}
